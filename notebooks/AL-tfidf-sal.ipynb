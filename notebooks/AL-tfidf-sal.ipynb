{
 "cells": [
  {
   "cell_type": "code",
   "execution_count": 1,
   "id": "cfa7b807-6f1f-43df-973e-26e7f2d9b885",
   "metadata": {
    "tags": []
   },
   "outputs": [
    {
     "name": "stdout",
     "output_type": "stream",
     "text": [
      "Looking in indexes: https://pypi.org/simple, https://pypi.ngc.nvidia.com\n",
      "Requirement already satisfied: transformers in /home/agarc040/envs/default-tensorflow-gpu-2.12.0/lib/python3.10/site-packages (4.35.2)\n",
      "Requirement already satisfied: tqdm>=4.27 in /home/agarc040/envs/default-tensorflow-gpu-2.12.0/lib/python3.10/site-packages (from transformers) (4.66.1)\n",
      "Requirement already satisfied: huggingface-hub<1.0,>=0.16.4 in /home/agarc040/envs/default-tensorflow-gpu-2.12.0/lib/python3.10/site-packages (from transformers) (0.19.4)\n",
      "Requirement already satisfied: pyyaml>=5.1 in /opt/conda/lib/python3.10/site-packages (from transformers) (6.0)\n",
      "Requirement already satisfied: tokenizers<0.19,>=0.14 in /home/agarc040/envs/default-tensorflow-gpu-2.12.0/lib/python3.10/site-packages (from transformers) (0.15.0)\n",
      "Requirement already satisfied: numpy>=1.17 in /opt/conda/lib/python3.10/site-packages (from transformers) (1.22.4)\n",
      "Requirement already satisfied: safetensors>=0.3.1 in /home/agarc040/envs/default-tensorflow-gpu-2.12.0/lib/python3.10/site-packages (from transformers) (0.4.1)\n",
      "Requirement already satisfied: packaging>=20.0 in /opt/conda/lib/python3.10/site-packages (from transformers) (23.0)\n",
      "Requirement already satisfied: regex!=2019.12.17 in /home/agarc040/envs/default-tensorflow-gpu-2.12.0/lib/python3.10/site-packages (from transformers) (2023.10.3)\n",
      "Requirement already satisfied: filelock in /opt/conda/lib/python3.10/site-packages (from transformers) (3.12.0)\n",
      "Requirement already satisfied: requests in /opt/conda/lib/python3.10/site-packages (from transformers) (2.28.1)\n",
      "Requirement already satisfied: typing-extensions>=3.7.4.3 in /opt/conda/lib/python3.10/site-packages (from huggingface-hub<1.0,>=0.16.4->transformers) (4.5.0)\n",
      "Requirement already satisfied: fsspec>=2023.5.0 in /home/agarc040/envs/default-tensorflow-gpu-2.12.0/lib/python3.10/site-packages (from huggingface-hub<1.0,>=0.16.4->transformers) (2023.12.1)\n",
      "Requirement already satisfied: charset-normalizer<3,>=2 in /opt/conda/lib/python3.10/site-packages (from requests->transformers) (2.0.4)\n",
      "Requirement already satisfied: urllib3<1.27,>=1.21.1 in /opt/conda/lib/python3.10/site-packages (from requests->transformers) (1.26.14)\n",
      "Requirement already satisfied: certifi>=2017.4.17 in /opt/conda/lib/python3.10/site-packages (from requests->transformers) (2022.12.7)\n",
      "Requirement already satisfied: idna<4,>=2.5 in /opt/conda/lib/python3.10/site-packages (from requests->transformers) (3.4)\n",
      "\n",
      "\u001b[1m[\u001b[0m\u001b[34;49mnotice\u001b[0m\u001b[1;39;49m]\u001b[0m\u001b[39;49m A new release of pip is available: \u001b[0m\u001b[31;49m23.0.1\u001b[0m\u001b[39;49m -> \u001b[0m\u001b[32;49m23.3.1\u001b[0m\n",
      "\u001b[1m[\u001b[0m\u001b[34;49mnotice\u001b[0m\u001b[1;39;49m]\u001b[0m\u001b[39;49m To update, run: \u001b[0m\u001b[32;49mpip install --upgrade pip\u001b[0m\n"
     ]
    }
   ],
   "source": [
    "!pip install transformers"
   ]
  },
  {
   "cell_type": "code",
   "execution_count": 2,
   "id": "2e0df51b-d0eb-4282-b425-e0581f7fdc87",
   "metadata": {
    "tags": []
   },
   "outputs": [],
   "source": [
    "from sklearn.feature_extraction.text import TfidfVectorizer\n",
    "import numpy as np\n",
    "from sklearn.linear_model import LogisticRegression\n",
    "from sklearn.model_selection import train_test_split\n",
    "import pandas as pd\n",
    "import torch\n",
    "from collections import Counter\n",
    "from sklearn.metrics import accuracy_score, classification_report\n",
    "import pickle\n",
    "from transformers import AutoTokenizer, AutoModel\n",
    "from sklearn.preprocessing import StandardScaler"
   ]
  },
  {
   "cell_type": "code",
   "execution_count": 3,
   "id": "8d1445a3-dedb-4a63-9cbd-53c36590857a",
   "metadata": {
    "tags": []
   },
   "outputs": [],
   "source": [
    "data = pd.read_csv(\"train_test_datasetV2.csv\")"
   ]
  },
  {
   "cell_type": "code",
   "execution_count": 4,
   "id": "5cef7156-f3e0-4020-b824-9d4d83e9d041",
   "metadata": {
    "tags": []
   },
   "outputs": [
    {
     "name": "stdout",
     "output_type": "stream",
     "text": [
      "6008\n",
      "target\n",
      "0    3715\n",
      "1    2293\n",
      "Name: count, dtype: int64\n",
      "Index(['ID', 'tweet', 'clean_tweet', 'target'], dtype='object')\n",
      "Type of documents <class 'list'> and labels: <class 'list'>\n",
      "Length 6008 and labels: 6008\n"
     ]
    }
   ],
   "source": [
    "print(len(data))\n",
    "print(data['target'].value_counts())\n",
    "print(data.columns)\n",
    "documents = data['clean_tweet'].to_list()\n",
    "labels = data['target'].to_list()\n",
    "\n",
    "print(f'Type of documents {type(documents)} and labels: {type(labels)}')\n",
    "print(f'Length {len(documents)} and labels: {len(labels)}')"
   ]
  },
  {
   "cell_type": "code",
   "execution_count": 5,
   "id": "7c565d4b-bfc5-4fa5-9736-2472e64f8245",
   "metadata": {
    "tags": []
   },
   "outputs": [
    {
     "name": "stdout",
     "output_type": "stream",
     "text": [
      "1000\n",
      "Value count of Seed Documents\n",
      "Counter({0: 595, 1: 405})\n"
     ]
    }
   ],
   "source": [
    "# Step 1: Select Seed Documents\n",
    "seed_size = 1000\n",
    "seed_indices = np.random.choice(range(len(documents)), size=seed_size, replace=False)\n",
    "seed_documents = [documents[i] for i in seed_indices]\n",
    "seed_labels = [labels[i] for i in seed_indices]\n",
    "\n",
    "print(len(seed_documents))\n",
    "distribution = Counter(seed_labels)\n",
    "print(\"Value count of Seed Documents\")\n",
    "print(distribution)"
   ]
  },
  {
   "cell_type": "code",
   "execution_count": 6,
   "id": "b0106999-1235-45da-bfb0-fd9d75bc401e",
   "metadata": {
    "tags": []
   },
   "outputs": [
    {
     "name": "stdout",
     "output_type": "stream",
     "text": [
      "Number of Seed Documents: 1000\n",
      "Value count of Seed Documents:\n",
      "Counter({0: 500, 1: 500})\n"
     ]
    }
   ],
   "source": [
    "class_0_indices = [i for i, label in enumerate(labels) if label == 0]\n",
    "class_1_indices = [i for i, label in enumerate(labels) if label == 1]\n",
    "\n",
    "seed_size = 1000\n",
    "\n",
    "# Define seed size for each class\n",
    "seed_size_per_class = seed_size // 2\n",
    "\n",
    "# Sample equally from each class\n",
    "seed_indices_0 = np.random.choice(class_0_indices, size=seed_size_per_class, replace=False)\n",
    "seed_indices_1 = np.random.choice(class_1_indices, size=seed_size_per_class, replace=False)\n",
    "\n",
    "# Combine the samples\n",
    "seed_indices = np.concatenate((seed_indices_0, seed_indices_1))\n",
    "np.random.shuffle(seed_indices)  # Shuffle to mix the classes\n",
    "\n",
    "# Extract seed documents and labels\n",
    "seed_documents = [documents[i] for i in seed_indices]\n",
    "seed_labels = [labels[i] for i in seed_indices]\n",
    "\n",
    "# Checking the distribution\n",
    "print(\"Number of Seed Documents:\", len(seed_documents))\n",
    "distribution = Counter(seed_labels)\n",
    "print(\"Value count of Seed Documents:\")\n",
    "print(distribution)"
   ]
  },
  {
   "cell_type": "code",
   "execution_count": 7,
   "id": "23165e2d-d0e6-40ed-afd4-4f3294c17be7",
   "metadata": {
    "tags": []
   },
   "outputs": [
    {
     "name": "stderr",
     "output_type": "stream",
     "text": [
      "/opt/conda/lib/python3.10/site-packages/sklearn/linear_model/_sag.py:350: ConvergenceWarning: The max_iter was reached which means the coef_ did not converge\n",
      "  warnings.warn(\n"
     ]
    },
    {
     "data": {
      "text/html": [
       "<style>#sk-container-id-1 {color: black;}#sk-container-id-1 pre{padding: 0;}#sk-container-id-1 div.sk-toggleable {background-color: white;}#sk-container-id-1 label.sk-toggleable__label {cursor: pointer;display: block;width: 100%;margin-bottom: 0;padding: 0.3em;box-sizing: border-box;text-align: center;}#sk-container-id-1 label.sk-toggleable__label-arrow:before {content: \"▸\";float: left;margin-right: 0.25em;color: #696969;}#sk-container-id-1 label.sk-toggleable__label-arrow:hover:before {color: black;}#sk-container-id-1 div.sk-estimator:hover label.sk-toggleable__label-arrow:before {color: black;}#sk-container-id-1 div.sk-toggleable__content {max-height: 0;max-width: 0;overflow: hidden;text-align: left;background-color: #f0f8ff;}#sk-container-id-1 div.sk-toggleable__content pre {margin: 0.2em;color: black;border-radius: 0.25em;background-color: #f0f8ff;}#sk-container-id-1 input.sk-toggleable__control:checked~div.sk-toggleable__content {max-height: 200px;max-width: 100%;overflow: auto;}#sk-container-id-1 input.sk-toggleable__control:checked~label.sk-toggleable__label-arrow:before {content: \"▾\";}#sk-container-id-1 div.sk-estimator input.sk-toggleable__control:checked~label.sk-toggleable__label {background-color: #d4ebff;}#sk-container-id-1 div.sk-label input.sk-toggleable__control:checked~label.sk-toggleable__label {background-color: #d4ebff;}#sk-container-id-1 input.sk-hidden--visually {border: 0;clip: rect(1px 1px 1px 1px);clip: rect(1px, 1px, 1px, 1px);height: 1px;margin: -1px;overflow: hidden;padding: 0;position: absolute;width: 1px;}#sk-container-id-1 div.sk-estimator {font-family: monospace;background-color: #f0f8ff;border: 1px dotted black;border-radius: 0.25em;box-sizing: border-box;margin-bottom: 0.5em;}#sk-container-id-1 div.sk-estimator:hover {background-color: #d4ebff;}#sk-container-id-1 div.sk-parallel-item::after {content: \"\";width: 100%;border-bottom: 1px solid gray;flex-grow: 1;}#sk-container-id-1 div.sk-label:hover label.sk-toggleable__label {background-color: #d4ebff;}#sk-container-id-1 div.sk-serial::before {content: \"\";position: absolute;border-left: 1px solid gray;box-sizing: border-box;top: 0;bottom: 0;left: 50%;z-index: 0;}#sk-container-id-1 div.sk-serial {display: flex;flex-direction: column;align-items: center;background-color: white;padding-right: 0.2em;padding-left: 0.2em;position: relative;}#sk-container-id-1 div.sk-item {position: relative;z-index: 1;}#sk-container-id-1 div.sk-parallel {display: flex;align-items: stretch;justify-content: center;background-color: white;position: relative;}#sk-container-id-1 div.sk-item::before, #sk-container-id-1 div.sk-parallel-item::before {content: \"\";position: absolute;border-left: 1px solid gray;box-sizing: border-box;top: 0;bottom: 0;left: 50%;z-index: -1;}#sk-container-id-1 div.sk-parallel-item {display: flex;flex-direction: column;z-index: 1;position: relative;background-color: white;}#sk-container-id-1 div.sk-parallel-item:first-child::after {align-self: flex-end;width: 50%;}#sk-container-id-1 div.sk-parallel-item:last-child::after {align-self: flex-start;width: 50%;}#sk-container-id-1 div.sk-parallel-item:only-child::after {width: 0;}#sk-container-id-1 div.sk-dashed-wrapped {border: 1px dashed gray;margin: 0 0.4em 0.5em 0.4em;box-sizing: border-box;padding-bottom: 0.4em;background-color: white;}#sk-container-id-1 div.sk-label label {font-family: monospace;font-weight: bold;display: inline-block;line-height: 1.2em;}#sk-container-id-1 div.sk-label-container {text-align: center;}#sk-container-id-1 div.sk-container {/* jupyter's `normalize.less` sets `[hidden] { display: none; }` but bootstrap.min.css set `[hidden] { display: none !important; }` so we also need the `!important` here to be able to override the default hidden behavior on the sphinx rendered scikit-learn.org. See: https://github.com/scikit-learn/scikit-learn/issues/21755 */display: inline-block !important;position: relative;}#sk-container-id-1 div.sk-text-repr-fallback {display: none;}</style><div id=\"sk-container-id-1\" class=\"sk-top-container\"><div class=\"sk-text-repr-fallback\"><pre>LogisticRegression(max_iter=1000, solver=&#x27;saga&#x27;)</pre><b>In a Jupyter environment, please rerun this cell to show the HTML representation or trust the notebook. <br />On GitHub, the HTML representation is unable to render, please try loading this page with nbviewer.org.</b></div><div class=\"sk-container\" hidden><div class=\"sk-item\"><div class=\"sk-estimator sk-toggleable\"><input class=\"sk-toggleable__control sk-hidden--visually\" id=\"sk-estimator-id-1\" type=\"checkbox\" checked><label for=\"sk-estimator-id-1\" class=\"sk-toggleable__label sk-toggleable__label-arrow\">LogisticRegression</label><div class=\"sk-toggleable__content\"><pre>LogisticRegression(max_iter=1000, solver=&#x27;saga&#x27;)</pre></div></div></div></div></div>"
      ],
      "text/plain": [
       "LogisticRegression(max_iter=1000, solver='saga')"
      ]
     },
     "execution_count": 7,
     "metadata": {},
     "output_type": "execute_result"
    }
   ],
   "source": [
    "# Define TFIDF Vectorizer\n",
    "\n",
    "vectorizer = TfidfVectorizer()\n",
    "X_seed = vectorizer.fit_transform(seed_documents)\n",
    "\n",
    "scaler = StandardScaler(with_mean=False)\n",
    "X_seed_scaled = scaler.fit_transform(X_seed)\n",
    "\n",
    "# Initialize Logistic Regression \n",
    "model = LogisticRegression(C=1.0, class_weight=None, dual=False, fit_intercept=True,\n",
    "                   intercept_scaling=1, l1_ratio=None, max_iter=1000,\n",
    "                   n_jobs=None, penalty='l2',\n",
    "                   random_state=None, solver='saga', tol=0.0001, verbose=0,\n",
    "                   warm_start=False)\n",
    "\n",
    "# Fit the model\n",
    "model.fit(X_seed_scaled, seed_labels)"
   ]
  },
  {
   "cell_type": "code",
   "execution_count": 8,
   "id": "61347690-9dbe-4366-a97a-e0586f7c88c4",
   "metadata": {
    "tags": []
   },
   "outputs": [
    {
     "ename": "NameError",
     "evalue": "name 'selected_indices' is not defined",
     "output_type": "error",
     "traceback": [
      "\u001b[0;31m---------------------------------------------------------------------------\u001b[0m",
      "\u001b[0;31mNameError\u001b[0m                                 Traceback (most recent call last)",
      "Cell \u001b[0;32mIn[8], line 18\u001b[0m\n\u001b[1;32m     15\u001b[0m annotated_labels \u001b[38;5;241m=\u001b[39m [labels[i] \u001b[38;5;28;01mfor\u001b[39;00m i \u001b[38;5;129;01min\u001b[39;00m uncertain_indices]\n\u001b[1;32m     17\u001b[0m \u001b[38;5;66;03m# Retrain the model with selected documents\u001b[39;00m\n\u001b[0;32m---> 18\u001b[0m X_train \u001b[38;5;241m=\u001b[39m vectorizer\u001b[38;5;241m.\u001b[39mtransform([documents[i] \u001b[38;5;28;01mfor\u001b[39;00m i \u001b[38;5;129;01min\u001b[39;00m \u001b[43mselected_indices\u001b[49m])\n\u001b[1;32m     19\u001b[0m X_train_scaled \u001b[38;5;241m=\u001b[39m scaler\u001b[38;5;241m.\u001b[39mtransform(X_train)\n\u001b[1;32m     20\u001b[0m model\u001b[38;5;241m.\u001b[39mfit(X_train_scaled, annotated_labels)\n",
      "\u001b[0;31mNameError\u001b[0m: name 'selected_indices' is not defined"
     ]
    }
   ],
   "source": [
    "total_budget = 5000\n",
    "batch_size = 150\n",
    "remaining_budget = total_budget - len(seed_documents)\n",
    "\n",
    "# Active Learning Loop using SAL\n",
    "while remaining_budget > 0:\n",
    "    X = vectorizer.transform(documents)\n",
    "    X_scaled = scaler.transform(X)\n",
    "    probabilities = model.predict_proba(X_scaled)[:, 1]  # Logistic Regression on CPU\n",
    "\n",
    "    # SAL: Select documents with probabilities closest to 0.5\n",
    "    uncertain_indices = np.argsort(np.abs(probabilities - 0.5))[:batch_size]\n",
    "\n",
    "    # Simulate annotation\n",
    "    annotated_labels = [labels[i] for i in uncertain_indices]\n",
    "\n",
    "    # Retrain the model with selected documents\n",
    "    X_train = vectorizer.transform([documents[i] for i in selected_indices])\n",
    "    X_train = ectorizer.transform([documents[i] for i in uncertain_indices])\n",
    "    X_train_scaled = scaler.transform(X_train)\n",
    "    model.fit(X_train_scaled, annotated_labels)\n",
    "    \n",
    "    remaining_budget -= batch_size\n",
    "    print(f'Remaining budget: {remaining_budget}')"
   ]
  },
  {
   "cell_type": "code",
   "execution_count": null,
   "id": "fdeedded-cc46-4e52-a88d-9dc1836dda9a",
   "metadata": {
    "tags": []
   },
   "outputs": [],
   "source": [
    "# Start the testing\n",
    "exp_data = pd.read_csv(\"experiment_datasetV2.csv\")\n",
    "\n",
    "print(len(exp_data))\n",
    "print(exp_data['target'].value_counts())\n",
    "print(exp_data.columns)\n",
    "\n",
    "test_documents = exp_data['clean_tweet'].to_list()\n",
    "test_labels = exp_data['target'].to_list()\n",
    "test_IDs = exp_data['ID'].to_list()\n",
    "\n",
    "print(f'Type of documents {type(test_documents)} and labels: {type(test_labels)}')\n",
    "print(f'Length {len(test_documents)} and labels: {len(test_labels)}')"
   ]
  },
  {
   "cell_type": "code",
   "execution_count": null,
   "id": "b8ddd19d-be5b-4bb2-a16f-0b91224480e2",
   "metadata": {
    "tags": []
   },
   "outputs": [],
   "source": [
    "X_test = vectorizer.transform(test_documents)\n",
    "X_test_scaled = scaler.transform(X_test)\n",
    "\n",
    "# Predict using the trained model\n",
    "predicted_labels = model.predict(X_test_scaled) # <--- change here\n",
    "predicted_probabilities = model.predict_proba(X_test_scaled) # <--- change here\n",
    "hateful_probabilities = predicted_probabilities[:, 1]\n",
    "\n",
    "distribution = Counter(predicted_labels)\n",
    "print(\"Value count of predicted_labels\")\n",
    "print(distribution)"
   ]
  },
  {
   "cell_type": "code",
   "execution_count": null,
   "id": "0cc68750-bbce-44a6-8201-86f67cc24025",
   "metadata": {
    "tags": []
   },
   "outputs": [],
   "source": [
    "# Evaluate the model\n",
    "accuracy = accuracy_score(test_labels, predicted_labels)\n",
    "report = classification_report(test_labels, predicted_labels)\n",
    "\n",
    "print(\"Accuracy:\", accuracy)\n",
    "print(\"Classification Report:\\n\", report)"
   ]
  },
  {
   "cell_type": "code",
   "execution_count": null,
   "id": "3afe78c1-0fd6-4421-b361-bc19781ca4c3",
   "metadata": {
    "tags": []
   },
   "outputs": [],
   "source": [
    "tfidf_SAL_experiment = pd.DataFrame({\n",
    "    'ID': test_IDs,\n",
    "    'clean_tweet': test_documents,\n",
    "    'true_label': test_labels,\n",
    "    'predicted_label': predicted_labels,\n",
    "    'probability_of_hateful': predicted_probabilities[:, 1]\n",
    "})"
   ]
  },
  {
   "cell_type": "code",
   "execution_count": null,
   "id": "a8bb2c51-e0ae-4cd4-82f2-f3a6801b6ed0",
   "metadata": {},
   "outputs": [],
   "source": [
    "tfidf_SAL_experiment.to_csv(\"tfidf_SAL_experiment_results.csv\", index=False)\n",
    "\n",
    "with open('logistic_regression_model_tfidf_SAL.pkl', 'wb') as file:\n",
    "    pickle.dump(model, file)  #<--- change here\n",
    "\n",
    "print(\"Done\")"
   ]
  }
 ],
 "metadata": {
  "kernelspec": {
   "display_name": "Python 3 (ipykernel)",
   "language": "python",
   "name": "python3"
  },
  "language_info": {
   "codemirror_mode": {
    "name": "ipython",
    "version": 3
   },
   "file_extension": ".py",
   "mimetype": "text/x-python",
   "name": "python",
   "nbconvert_exporter": "python",
   "pygments_lexer": "ipython3",
   "version": "3.10.8"
  }
 },
 "nbformat": 4,
 "nbformat_minor": 5
}
