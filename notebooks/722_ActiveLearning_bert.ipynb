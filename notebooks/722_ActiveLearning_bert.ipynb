{
 "cells": [
  {
   "cell_type": "markdown",
   "metadata": {
    "id": "FB5KZJS3jnUL"
   },
   "source": [
    "# Packages"
   ]
  },
  {
   "cell_type": "code",
   "execution_count": 2,
   "metadata": {
    "id": "ByMjYc6piI3r",
    "tags": []
   },
   "outputs": [],
   "source": [
    "import pandas as pd\n",
    "import tensorflow as tf\n",
    "import tensorflow_hub as hub\n",
    "#import tensorflow_text as txt"
   ]
  },
  {
   "cell_type": "markdown",
   "metadata": {
    "id": "H9feE9zVjrZ8"
   },
   "source": [
    "# Data"
   ]
  },
  {
   "cell_type": "code",
   "execution_count": 9,
   "metadata": {
    "colab": {
     "base_uri": "https://localhost:8080/",
     "height": 424
    },
    "id": "rOL7Wb2giNKs",
    "outputId": "9a85dae8-f8a2-48ab-ab69-3eae65ba04ff",
    "tags": []
   },
   "outputs": [
    {
     "data": {
      "text/html": [
       "<div>\n",
       "<style scoped>\n",
       "    .dataframe tbody tr th:only-of-type {\n",
       "        vertical-align: middle;\n",
       "    }\n",
       "\n",
       "    .dataframe tbody tr th {\n",
       "        vertical-align: top;\n",
       "    }\n",
       "\n",
       "    .dataframe thead th {\n",
       "        text-align: right;\n",
       "    }\n",
       "</style>\n",
       "<table border=\"1\" class=\"dataframe\">\n",
       "  <thead>\n",
       "    <tr style=\"text-align: right;\">\n",
       "      <th></th>\n",
       "      <th>ID</th>\n",
       "      <th>tweet</th>\n",
       "      <th>clean_tweet</th>\n",
       "      <th>target</th>\n",
       "    </tr>\n",
       "  </thead>\n",
       "  <tbody>\n",
       "    <tr>\n",
       "      <th>0</th>\n",
       "      <td>2441</td>\n",
       "      <td>well,these sewer rats don't take a cent from m...</td>\n",
       "      <td>wellthese sewer rats dont cent mei dont use wa...</td>\n",
       "      <td>1</td>\n",
       "    </tr>\n",
       "    <tr>\n",
       "      <th>1</th>\n",
       "      <td>839</td>\n",
       "      <td>how cool is this! i have a own page :d #masks ...</td>\n",
       "      <td>cool page</td>\n",
       "      <td>0</td>\n",
       "    </tr>\n",
       "    <tr>\n",
       "      <th>2</th>\n",
       "      <td>15</td>\n",
       "      <td>#justinb   gorilla simulator: you need to do t...</td>\n",
       "      <td>gorilla simulator need adapt environment need ...</td>\n",
       "      <td>0</td>\n",
       "    </tr>\n",
       "    <tr>\n",
       "      <th>3</th>\n",
       "      <td>3007</td>\n",
       "      <td>@HuffingtonPost if the faggots can have a page...</td>\n",
       "      <td>faggots page cant theyfaggots offend</td>\n",
       "      <td>1</td>\n",
       "    </tr>\n",
       "    <tr>\n",
       "      <th>4</th>\n",
       "      <td>3079</td>\n",
       "      <td>@wclemons @thejoelberggren @anthonycumia you l...</td>\n",
       "      <td>little fag fuck woman kids plus work suppo  hi...</td>\n",
       "      <td>1</td>\n",
       "    </tr>\n",
       "    <tr>\n",
       "      <th>...</th>\n",
       "      <td>...</td>\n",
       "      <td>...</td>\n",
       "      <td>...</td>\n",
       "      <td>...</td>\n",
       "    </tr>\n",
       "    <tr>\n",
       "      <th>6003</th>\n",
       "      <td>3773</td>\n",
       "      <td>RT @LilTy___: Who do bitches take me for? &amp;#12...</td>\n",
       "      <td>bitches</td>\n",
       "      <td>1</td>\n",
       "    </tr>\n",
       "    <tr>\n",
       "      <th>6004</th>\n",
       "      <td>5192</td>\n",
       "      <td>First jig of the night</td>\n",
       "      <td>jig night</td>\n",
       "      <td>0</td>\n",
       "    </tr>\n",
       "    <tr>\n",
       "      <th>6005</th>\n",
       "      <td>5227</td>\n",
       "      <td>Get two birds stoned at one time.</td>\n",
       "      <td>birds stoned time</td>\n",
       "      <td>0</td>\n",
       "    </tr>\n",
       "    <tr>\n",
       "      <th>6006</th>\n",
       "      <td>5391</td>\n",
       "      <td>I think I'll have salad bar for lunch today. G...</td>\n",
       "      <td>think ill salad bar lunch today gotta bi hday ...</td>\n",
       "      <td>0</td>\n",
       "    </tr>\n",
       "    <tr>\n",
       "      <th>6007</th>\n",
       "      <td>861</td>\n",
       "      <td>here we go again people!   multiple people sho...</td>\n",
       "      <td>people multiple people shot east flatbush play...</td>\n",
       "      <td>0</td>\n",
       "    </tr>\n",
       "  </tbody>\n",
       "</table>\n",
       "<p>6008 rows × 4 columns</p>\n",
       "</div>"
      ],
      "text/plain": [
       "        ID                                              tweet  \\\n",
       "0     2441  well,these sewer rats don't take a cent from m...   \n",
       "1      839  how cool is this! i have a own page :d #masks ...   \n",
       "2       15  #justinb   gorilla simulator: you need to do t...   \n",
       "3     3007  @HuffingtonPost if the faggots can have a page...   \n",
       "4     3079  @wclemons @thejoelberggren @anthonycumia you l...   \n",
       "...    ...                                                ...   \n",
       "6003  3773  RT @LilTy___: Who do bitches take me for? &#12...   \n",
       "6004  5192                             First jig of the night   \n",
       "6005  5227                  Get two birds stoned at one time.   \n",
       "6006  5391  I think I'll have salad bar for lunch today. G...   \n",
       "6007   861  here we go again people!   multiple people sho...   \n",
       "\n",
       "                                            clean_tweet  target  \n",
       "0     wellthese sewer rats dont cent mei dont use wa...       1  \n",
       "1                                             cool page       0  \n",
       "2     gorilla simulator need adapt environment need ...       0  \n",
       "3                  faggots page cant theyfaggots offend       1  \n",
       "4     little fag fuck woman kids plus work suppo  hi...       1  \n",
       "...                                                 ...     ...  \n",
       "6003                                            bitches       1  \n",
       "6004                                          jig night       0  \n",
       "6005                                  birds stoned time       0  \n",
       "6006  think ill salad bar lunch today gotta bi hday ...       0  \n",
       "6007  people multiple people shot east flatbush play...       0  \n",
       "\n",
       "[6008 rows x 4 columns]"
      ]
     },
     "execution_count": 9,
     "metadata": {},
     "output_type": "execute_result"
    }
   ],
   "source": [
    "# Read the data from a CSV file\n",
    "df = pd.read_csv('https://raw.githubusercontent.com/AnnaGarcia1207/722_project/main/dataset/train_test_datasetV2.csv')\n",
    "df"
   ]
  },
  {
   "cell_type": "code",
   "execution_count": 10,
   "metadata": {
    "colab": {
     "base_uri": "https://localhost:8080/",
     "height": 206
    },
    "id": "TOx0qY2cj2sA",
    "outputId": "d43ba8da-6d60-4478-d22c-c901bea8fbbf",
    "tags": []
   },
   "outputs": [
    {
     "data": {
      "text/html": [
       "<div>\n",
       "<style scoped>\n",
       "    .dataframe tbody tr th:only-of-type {\n",
       "        vertical-align: middle;\n",
       "    }\n",
       "\n",
       "    .dataframe tbody tr th {\n",
       "        vertical-align: top;\n",
       "    }\n",
       "\n",
       "    .dataframe thead th {\n",
       "        text-align: right;\n",
       "    }\n",
       "</style>\n",
       "<table border=\"1\" class=\"dataframe\">\n",
       "  <thead>\n",
       "    <tr style=\"text-align: right;\">\n",
       "      <th></th>\n",
       "      <th>clean_tweet</th>\n",
       "      <th>target</th>\n",
       "    </tr>\n",
       "  </thead>\n",
       "  <tbody>\n",
       "    <tr>\n",
       "      <th>0</th>\n",
       "      <td>wellthese sewer rats dont cent mei dont use wa...</td>\n",
       "      <td>1</td>\n",
       "    </tr>\n",
       "    <tr>\n",
       "      <th>1</th>\n",
       "      <td>cool page</td>\n",
       "      <td>0</td>\n",
       "    </tr>\n",
       "    <tr>\n",
       "      <th>2</th>\n",
       "      <td>gorilla simulator need adapt environment need ...</td>\n",
       "      <td>0</td>\n",
       "    </tr>\n",
       "    <tr>\n",
       "      <th>3</th>\n",
       "      <td>faggots page cant theyfaggots offend</td>\n",
       "      <td>1</td>\n",
       "    </tr>\n",
       "    <tr>\n",
       "      <th>4</th>\n",
       "      <td>little fag fuck woman kids plus work suppo  hi...</td>\n",
       "      <td>1</td>\n",
       "    </tr>\n",
       "  </tbody>\n",
       "</table>\n",
       "</div>"
      ],
      "text/plain": [
       "                                         clean_tweet  target\n",
       "0  wellthese sewer rats dont cent mei dont use wa...       1\n",
       "1                                          cool page       0\n",
       "2  gorilla simulator need adapt environment need ...       0\n",
       "3               faggots page cant theyfaggots offend       1\n",
       "4  little fag fuck woman kids plus work suppo  hi...       1"
      ]
     },
     "execution_count": 10,
     "metadata": {},
     "output_type": "execute_result"
    }
   ],
   "source": [
    "# Preprocess the text data\n",
    "df_clean = df[['clean_tweet', 'target']]\n",
    "df_clean.head(5)"
   ]
  },
  {
   "cell_type": "code",
   "execution_count": 11,
   "metadata": {
    "colab": {
     "base_uri": "https://localhost:8080/",
     "height": 175
    },
    "id": "jGk6zbRGkGP8",
    "outputId": "f452d2b4-7780-4938-ab58-afc2dc5168cb",
    "tags": []
   },
   "outputs": [
    {
     "data": {
      "text/html": [
       "<div>\n",
       "<style scoped>\n",
       "    .dataframe tbody tr th:only-of-type {\n",
       "        vertical-align: middle;\n",
       "    }\n",
       "\n",
       "    .dataframe tbody tr th {\n",
       "        vertical-align: top;\n",
       "    }\n",
       "\n",
       "    .dataframe thead tr th {\n",
       "        text-align: left;\n",
       "    }\n",
       "\n",
       "    .dataframe thead tr:last-of-type th {\n",
       "        text-align: right;\n",
       "    }\n",
       "</style>\n",
       "<table border=\"1\" class=\"dataframe\">\n",
       "  <thead>\n",
       "    <tr>\n",
       "      <th></th>\n",
       "      <th colspan=\"4\" halign=\"left\">clean_tweet</th>\n",
       "    </tr>\n",
       "    <tr>\n",
       "      <th></th>\n",
       "      <th>count</th>\n",
       "      <th>unique</th>\n",
       "      <th>top</th>\n",
       "      <th>freq</th>\n",
       "    </tr>\n",
       "    <tr>\n",
       "      <th>target</th>\n",
       "      <th></th>\n",
       "      <th></th>\n",
       "      <th></th>\n",
       "      <th></th>\n",
       "    </tr>\n",
       "  </thead>\n",
       "  <tbody>\n",
       "    <tr>\n",
       "      <th>0</th>\n",
       "      <td>3715</td>\n",
       "      <td>3635</td>\n",
       "      <td>love u u time ur</td>\n",
       "      <td>14</td>\n",
       "    </tr>\n",
       "    <tr>\n",
       "      <th>1</th>\n",
       "      <td>2293</td>\n",
       "      <td>2084</td>\n",
       "      <td>libtard</td>\n",
       "      <td>41</td>\n",
       "    </tr>\n",
       "  </tbody>\n",
       "</table>\n",
       "</div>"
      ],
      "text/plain": [
       "       clean_tweet                              \n",
       "             count unique               top freq\n",
       "target                                          \n",
       "0             3715   3635  love u u time ur   14\n",
       "1             2293   2084           libtard   41"
      ]
     },
     "execution_count": 11,
     "metadata": {},
     "output_type": "execute_result"
    }
   ],
   "source": [
    "df_clean.groupby('target').describe()"
   ]
  },
  {
   "cell_type": "code",
   "execution_count": 12,
   "metadata": {
    "colab": {
     "base_uri": "https://localhost:8080/"
    },
    "id": "Os8TMksBPLu7",
    "outputId": "0cd387d0-29d2-41af-f1ee-0834c4a66514",
    "tags": []
   },
   "outputs": [
    {
     "name": "stderr",
     "output_type": "stream",
     "text": [
      "/tmp/ipykernel_2891021/2172810109.py:2: SettingWithCopyWarning: \n",
      "A value is trying to be set on a copy of a slice from a DataFrame.\n",
      "Try using .loc[row_indexer,col_indexer] = value instead\n",
      "\n",
      "See the caveats in the documentation: https://pandas.pydata.org/pandas-docs/stable/user_guide/indexing.html#returning-a-view-versus-a-copy\n",
      "  df_clean['clean_tweet'] = df_clean['clean_tweet'].astype(str)\n",
      "/tmp/ipykernel_2891021/2172810109.py:3: SettingWithCopyWarning: \n",
      "A value is trying to be set on a copy of a slice from a DataFrame.\n",
      "Try using .loc[row_indexer,col_indexer] = value instead\n",
      "\n",
      "See the caveats in the documentation: https://pandas.pydata.org/pandas-docs/stable/user_guide/indexing.html#returning-a-view-versus-a-copy\n",
      "  df_clean['target'] = df_clean['target'].astype('float32')\n"
     ]
    }
   ],
   "source": [
    "# Convert the 'clean_tweet' column to string data type\n",
    "df_clean['clean_tweet'] = df_clean['clean_tweet'].astype(str)\n",
    "df_clean['target'] = df_clean['target'].astype('float32')\n"
   ]
  },
  {
   "cell_type": "code",
   "execution_count": 13,
   "metadata": {
    "colab": {
     "base_uri": "https://localhost:8080/"
    },
    "id": "T0tTHbSMPeUV",
    "outputId": "855d3bdb-2833-4884-c02d-5ef05a3620a3",
    "tags": []
   },
   "outputs": [
    {
     "data": {
      "text/plain": [
       "clean_tweet     object\n",
       "target         float32\n",
       "dtype: object"
      ]
     },
     "execution_count": 13,
     "metadata": {},
     "output_type": "execute_result"
    }
   ],
   "source": [
    "df_clean.dtypes"
   ]
  },
  {
   "cell_type": "markdown",
   "metadata": {
    "id": "HBU7WWPektKb"
   },
   "source": [
    "# Train/Test"
   ]
  },
  {
   "cell_type": "code",
   "execution_count": 14,
   "metadata": {
    "id": "ZsBjr2Paksp5",
    "tags": []
   },
   "outputs": [],
   "source": [
    "from sklearn.model_selection import train_test_split\n",
    "\n",
    "X_train, X_test, y_train, y_test = train_test_split(df_clean['clean_tweet'], df_clean['target'], test_size=0.3, random_state=42)"
   ]
  },
  {
   "cell_type": "code",
   "execution_count": 15,
   "metadata": {
    "colab": {
     "base_uri": "https://localhost:8080/"
    },
    "id": "SWdJIQVEkUdA",
    "outputId": "e17bde12-e929-413c-b06a-f2221082df85",
    "tags": []
   },
   "outputs": [
    {
     "data": {
      "text/plain": [
       "5678    1.0\n",
       "45      1.0\n",
       "1260    0.0\n",
       "1096    0.0\n",
       "Name: target, dtype: float32"
      ]
     },
     "execution_count": 15,
     "metadata": {},
     "output_type": "execute_result"
    }
   ],
   "source": [
    "y_train.head(4)"
   ]
  },
  {
   "cell_type": "markdown",
   "metadata": {
    "id": "bpVAE3_AlN-1"
   },
   "source": [
    "# Using Bert"
   ]
  },
  {
   "cell_type": "code",
   "execution_count": 18,
   "metadata": {
    "id": "iV_pxVZblPw4",
    "tags": []
   },
   "outputs": [],
   "source": [
    "bert_preprocess = hub.KerasLayer(\"https://tfhub.dev/tensorflow/bert_en_uncased_preprocess/3\")"
   ]
  },
  {
   "cell_type": "code",
   "execution_count": 17,
   "metadata": {
    "tags": []
   },
   "outputs": [],
   "source": [
    "bert_encoder = hub.KerasLayer(\"https://tfhub.dev/tensorflow/bert_en_uncased_L-12_H-768_A-12/4\")"
   ]
  },
  {
   "cell_type": "markdown",
   "metadata": {
    "id": "mMXfB2SNtHJ6"
   },
   "source": [
    "## Build the model"
   ]
  },
  {
   "cell_type": "code",
   "execution_count": 19,
   "metadata": {
    "id": "qkai0BRktCxG",
    "tags": []
   },
   "outputs": [],
   "source": [
    "# Bert Layers\n",
    "\n",
    "text_input = tf.keras.layers.Input(shape=(), dtype=tf.string, name='text')\n",
    "preprocessed_text = bert_preprocess(text_input)\n",
    "outputs = bert_encoder(preprocessed_text)\n",
    "\n",
    "# Neural Network Layers\n",
    "\n",
    "l = tf.keras.layers.Dropout(0.1, name='dropout')(outputs['pooled_output'])\n",
    "l = tf.keras.layers.Dense(1, activation='sigmoid', name='output')(l)\n",
    "\n",
    "# Construct final model\n",
    "model = tf.keras.Model(inputs=[text_input], outputs=[l])"
   ]
  },
  {
   "cell_type": "code",
   "execution_count": 20,
   "metadata": {
    "colab": {
     "base_uri": "https://localhost:8080/"
    },
    "id": "JETDYWXZu7Yd",
    "outputId": "1b905437-94f6-4721-c585-e7d0d39d9b1c",
    "tags": []
   },
   "outputs": [
    {
     "name": "stdout",
     "output_type": "stream",
     "text": [
      "Model: \"model\"\n",
      "__________________________________________________________________________________________________\n",
      " Layer (type)                Output Shape                 Param #   Connected to                  \n",
      "==================================================================================================\n",
      " text (InputLayer)           [(None,)]                    0         []                            \n",
      "                                                                                                  \n",
      " keras_layer_3 (KerasLayer)  {'input_type_ids': (None,    0         ['text[0][0]']                \n",
      "                             128),                                                                \n",
      "                              'input_mask': (None, 128)                                           \n",
      "                             , 'input_word_ids': (None,                                           \n",
      "                              128)}                                                               \n",
      "                                                                                                  \n",
      " keras_layer_2 (KerasLayer)  {'pooled_output': (None, 7   1094822   ['keras_layer_3[0][0]',       \n",
      "                             68),                         41         'keras_layer_3[0][1]',       \n",
      "                              'sequence_output': (None,              'keras_layer_3[0][2]']       \n",
      "                              128, 768),                                                          \n",
      "                              'encoder_outputs': [(None                                           \n",
      "                             , 128, 768),                                                         \n",
      "                              (None, 128, 768),                                                   \n",
      "                              (None, 128, 768),                                                   \n",
      "                              (None, 128, 768),                                                   \n",
      "                              (None, 128, 768),                                                   \n",
      "                              (None, 128, 768),                                                   \n",
      "                              (None, 128, 768),                                                   \n",
      "                              (None, 128, 768),                                                   \n",
      "                              (None, 128, 768),                                                   \n",
      "                              (None, 128, 768),                                                   \n",
      "                              (None, 128, 768),                                                   \n",
      "                              (None, 128, 768)],                                                  \n",
      "                              'default': (None, 768)}                                             \n",
      "                                                                                                  \n",
      " dropout (Dropout)           (None, 768)                  0         ['keras_layer_2[0][13]']      \n",
      "                                                                                                  \n",
      " output (Dense)              (None, 1)                    769       ['dropout[0][0]']             \n",
      "                                                                                                  \n",
      "==================================================================================================\n",
      "Total params: 109483010 (417.64 MB)\n",
      "Trainable params: 769 (3.00 KB)\n",
      "Non-trainable params: 109482241 (417.64 MB)\n",
      "__________________________________________________________________________________________________\n"
     ]
    }
   ],
   "source": [
    "model.summary()"
   ]
  },
  {
   "cell_type": "markdown",
   "metadata": {
    "id": "WjrjLPPkveFx"
   },
   "source": [
    "## Train the model"
   ]
  },
  {
   "cell_type": "code",
   "execution_count": 21,
   "metadata": {
    "id": "iUgwi9EuvM_-",
    "tags": []
   },
   "outputs": [],
   "source": [
    "METRICS = [\n",
    "    tf.keras.metrics.BinaryAccuracy(name='accuracy'),\n",
    "    tf.keras.metrics.Precision(name='precision'),\n",
    "    tf.keras.metrics.Recall(name='recall'),\n",
    "    tf.keras.metrics.F1Score(name='f1')\n",
    "]\n",
    "\n",
    "model.compile(optimizer='adam',\n",
    "              loss='binary_crossentropy',\n",
    "              metrics=METRICS)"
   ]
  },
  {
   "cell_type": "code",
   "execution_count": 22,
   "metadata": {
    "colab": {
     "base_uri": "https://localhost:8080/"
    },
    "id": "byok34zTwDCt",
    "outputId": "ba7d1af7-6371-4e3a-cc59-616013d737e6",
    "tags": []
   },
   "outputs": [
    {
     "name": "stdout",
     "output_type": "stream",
     "text": [
      "Epoch 1/10\n",
      "132/132 [==============================] - 301s 2s/step - loss: 0.6653 - accuracy: 0.6083 - precision: 0.4455 - recall: 0.1174 - f1: 0.5515\n",
      "Epoch 2/10\n",
      "132/132 [==============================] - 294s 2s/step - loss: 0.6354 - accuracy: 0.6373 - precision: 0.5648 - recall: 0.2067 - f1: 0.5515\n",
      "Epoch 3/10\n",
      "132/132 [==============================] - 294s 2s/step - loss: 0.6114 - accuracy: 0.6595 - precision: 0.6085 - recall: 0.2961 - f1: 0.5515\n",
      "Epoch 4/10\n",
      "132/132 [==============================] - 294s 2s/step - loss: 0.5941 - accuracy: 0.6792 - precision: 0.6486 - recall: 0.3435 - f1: 0.5515\n",
      "Epoch 5/10\n",
      "132/132 [==============================] - 295s 2s/step - loss: 0.5788 - accuracy: 0.6942 - precision: 0.6768 - recall: 0.3766 - f1: 0.5515\n",
      "Epoch 6/10\n",
      "132/132 [==============================] - 297s 2s/step - loss: 0.5708 - accuracy: 0.6977 - precision: 0.6712 - recall: 0.4041 - f1: 0.5515\n",
      "Epoch 7/10\n",
      "132/132 [==============================] - 296s 2s/step - loss: 0.5624 - accuracy: 0.7106 - precision: 0.6882 - recall: 0.4385 - f1: 0.5515\n",
      "Epoch 8/10\n",
      "132/132 [==============================] - 297s 2s/step - loss: 0.5509 - accuracy: 0.7189 - precision: 0.7076 - recall: 0.4460 - f1: 0.5515\n",
      "Epoch 9/10\n",
      "132/132 [==============================] - 296s 2s/step - loss: 0.5500 - accuracy: 0.7244 - precision: 0.6995 - recall: 0.4841 - f1: 0.5515\n",
      "Epoch 10/10\n",
      "132/132 [==============================] - 296s 2s/step - loss: 0.5461 - accuracy: 0.7244 - precision: 0.6928 - recall: 0.4959 - f1: 0.5515\n"
     ]
    },
    {
     "data": {
      "text/plain": [
       "<keras.src.callbacks.History at 0x7f7374c65690>"
      ]
     },
     "execution_count": 22,
     "metadata": {},
     "output_type": "execute_result"
    }
   ],
   "source": [
    "model.fit(X_train, y_train, epochs=10)"
   ]
  },
  {
   "cell_type": "markdown",
   "metadata": {
    "id": "yCIBzKFYCiTp"
   },
   "source": [
    "## Save the model"
   ]
  },
  {
   "cell_type": "code",
   "execution_count": 23,
   "metadata": {
    "id": "Qp_IM5BXC4hT",
    "tags": []
   },
   "outputs": [
    {
     "name": "stdout",
     "output_type": "stream",
     "text": [
      "INFO:tensorflow:Assets written to: bert/bert_model/assets\n"
     ]
    },
    {
     "name": "stderr",
     "output_type": "stream",
     "text": [
      "INFO:tensorflow:Assets written to: bert/bert_model/assets\n"
     ]
    }
   ],
   "source": [
    "model.save(\"AL_algorithm/bert_model\")"
   ]
  },
  {
   "cell_type": "markdown",
   "metadata": {},
   "source": [
    "# Test the model"
   ]
  },
  {
   "cell_type": "markdown",
   "metadata": {},
   "source": [
    "## Call experiment dataset"
   ]
  },
  {
   "cell_type": "code",
   "execution_count": 3,
   "metadata": {
    "tags": []
   },
   "outputs": [
    {
     "data": {
      "text/html": [
       "<div>\n",
       "<style scoped>\n",
       "    .dataframe tbody tr th:only-of-type {\n",
       "        vertical-align: middle;\n",
       "    }\n",
       "\n",
       "    .dataframe tbody tr th {\n",
       "        vertical-align: top;\n",
       "    }\n",
       "\n",
       "    .dataframe thead th {\n",
       "        text-align: right;\n",
       "    }\n",
       "</style>\n",
       "<table border=\"1\" class=\"dataframe\">\n",
       "  <thead>\n",
       "    <tr style=\"text-align: right;\">\n",
       "      <th></th>\n",
       "      <th>ID</th>\n",
       "      <th>tweet</th>\n",
       "      <th>clean_tweet</th>\n",
       "      <th>target</th>\n",
       "    </tr>\n",
       "  </thead>\n",
       "  <tbody>\n",
       "    <tr>\n",
       "      <th>0</th>\n",
       "      <td>5119</td>\n",
       "      <td>Come on man RT @BasedLaRock: Oreo needs to chi...</td>\n",
       "      <td>come man   oreo needs chill know good nah  tco...</td>\n",
       "      <td>0</td>\n",
       "    </tr>\n",
       "    <tr>\n",
       "      <th>1</th>\n",
       "      <td>3575</td>\n",
       "      <td>I think you fuckin wit the wrong niggah</td>\n",
       "      <td>think fuckin wit wrong niggah</td>\n",
       "      <td>1</td>\n",
       "    </tr>\n",
       "    <tr>\n",
       "      <th>2</th>\n",
       "      <td>246</td>\n",
       "      <td>#russian   gorilla simulator: you need to do t...</td>\n",
       "      <td>gorilla simulator need adapt environment need ...</td>\n",
       "      <td>0</td>\n",
       "    </tr>\n",
       "    <tr>\n",
       "      <th>3</th>\n",
       "      <td>3259</td>\n",
       "      <td>&amp;#8220;@M_Rad: I'm going to miss these bitches...</td>\n",
       "      <td>im going miss bitches  tcolupoqat2r9 far right...</td>\n",
       "      <td>1</td>\n",
       "    </tr>\n",
       "    <tr>\n",
       "      <th>4</th>\n",
       "      <td>5805</td>\n",
       "      <td>RT @ChrisPalmerNBA: Udonis talking some big tr...</td>\n",
       "      <td>udonis talking big trash lance lebron holds</td>\n",
       "      <td>0</td>\n",
       "    </tr>\n",
       "    <tr>\n",
       "      <th>...</th>\n",
       "      <td>...</td>\n",
       "      <td>...</td>\n",
       "      <td>...</td>\n",
       "      <td>...</td>\n",
       "    </tr>\n",
       "    <tr>\n",
       "      <th>995</th>\n",
       "      <td>1551</td>\n",
       "      <td>@user pay of #rich #white  #snobs  via @user #...</td>\n",
       "      <td>pay</td>\n",
       "      <td>1</td>\n",
       "    </tr>\n",
       "    <tr>\n",
       "      <th>996</th>\n",
       "      <td>4505</td>\n",
       "      <td>@Hovaa_ your pet zebra. stripey?</td>\n",
       "      <td>pet zebra stripey</td>\n",
       "      <td>0</td>\n",
       "    </tr>\n",
       "    <tr>\n",
       "      <th>997</th>\n",
       "      <td>790</td>\n",
       "      <td>orlando alligator: body of boy seized by allig...</td>\n",
       "      <td>orlando alligator body boy seized alligator found</td>\n",
       "      <td>0</td>\n",
       "    </tr>\n",
       "    <tr>\n",
       "      <th>998</th>\n",
       "      <td>6826</td>\n",
       "      <td>Why is all these artist and new ones making so...</td>\n",
       "      <td>a ist new ones making trash</td>\n",
       "      <td>0</td>\n",
       "    </tr>\n",
       "    <tr>\n",
       "      <th>999</th>\n",
       "      <td>4021</td>\n",
       "      <td>This bitch literally just said \"normal people ...</td>\n",
       "      <td>bitch literally said normal people shouldnt wo...</td>\n",
       "      <td>1</td>\n",
       "    </tr>\n",
       "  </tbody>\n",
       "</table>\n",
       "<p>1000 rows × 4 columns</p>\n",
       "</div>"
      ],
      "text/plain": [
       "       ID                                              tweet  \\\n",
       "0    5119  Come on man RT @BasedLaRock: Oreo needs to chi...   \n",
       "1    3575            I think you fuckin wit the wrong niggah   \n",
       "2     246  #russian   gorilla simulator: you need to do t...   \n",
       "3    3259  &#8220;@M_Rad: I'm going to miss these bitches...   \n",
       "4    5805  RT @ChrisPalmerNBA: Udonis talking some big tr...   \n",
       "..    ...                                                ...   \n",
       "995  1551  @user pay of #rich #white  #snobs  via @user #...   \n",
       "996  4505                   @Hovaa_ your pet zebra. stripey?   \n",
       "997   790  orlando alligator: body of boy seized by allig...   \n",
       "998  6826  Why is all these artist and new ones making so...   \n",
       "999  4021  This bitch literally just said \"normal people ...   \n",
       "\n",
       "                                           clean_tweet  target  \n",
       "0    come man   oreo needs chill know good nah  tco...       0  \n",
       "1                        think fuckin wit wrong niggah       1  \n",
       "2    gorilla simulator need adapt environment need ...       0  \n",
       "3    im going miss bitches  tcolupoqat2r9 far right...       1  \n",
       "4          udonis talking big trash lance lebron holds       0  \n",
       "..                                                 ...     ...  \n",
       "995                                                pay       1  \n",
       "996                                  pet zebra stripey       0  \n",
       "997  orlando alligator body boy seized alligator found       0  \n",
       "998                        a ist new ones making trash       0  \n",
       "999  bitch literally said normal people shouldnt wo...       1  \n",
       "\n",
       "[1000 rows x 4 columns]"
      ]
     },
     "execution_count": 3,
     "metadata": {},
     "output_type": "execute_result"
    }
   ],
   "source": [
    "experiment_df = pd.read_csv('https://raw.githubusercontent.com/AnnaGarcia1207/722_project/main/dataset/experiment_datasetV2.csv')\n",
    "experiment_df"
   ]
  },
  {
   "cell_type": "code",
   "execution_count": 4,
   "metadata": {
    "tags": []
   },
   "outputs": [],
   "source": [
    "# Convert the 'clean_tweet' column to string data type\n",
    "experiment_df['clean_tweet'] = experiment_df['clean_tweet'].astype(str)\n",
    "experiment_df['target'] = experiment_df['target'].astype('float32')"
   ]
  },
  {
   "cell_type": "markdown",
   "metadata": {},
   "source": [
    "## Make prediction"
   ]
  },
  {
   "cell_type": "code",
   "execution_count": 69,
   "metadata": {
    "tags": []
   },
   "outputs": [
    {
     "name": "stdout",
     "output_type": "stream",
     "text": [
      "32/32 [==============================] - 69s 2s/step - loss: 0.5075 - accuracy: 0.7640 - precision: 0.7819 - recall: 0.5094 - f1: 0.5433\n"
     ]
    },
    {
     "data": {
      "text/plain": [
       "[0.5075077414512634,\n",
       " 0.7639999985694885,\n",
       " 0.7818930149078369,\n",
       " 0.5093833804130554,\n",
       " array([0.54333574], dtype=float32)]"
      ]
     },
     "execution_count": 69,
     "metadata": {},
     "output_type": "execute_result"
    }
   ],
   "source": [
    "model.evaluate(experiment_df['clean_tweet'], experiment_df['target'])"
   ]
  },
  {
   "cell_type": "code",
   "execution_count": 70,
   "metadata": {
    "tags": []
   },
   "outputs": [
    {
     "name": "stdout",
     "output_type": "stream",
     "text": [
      "32/32 [==============================] - 69s 2s/step\n"
     ]
    },
    {
     "data": {
      "text/html": [
       "<div>\n",
       "<style scoped>\n",
       "    .dataframe tbody tr th:only-of-type {\n",
       "        vertical-align: middle;\n",
       "    }\n",
       "\n",
       "    .dataframe tbody tr th {\n",
       "        vertical-align: top;\n",
       "    }\n",
       "\n",
       "    .dataframe thead th {\n",
       "        text-align: right;\n",
       "    }\n",
       "</style>\n",
       "<table border=\"1\" class=\"dataframe\">\n",
       "  <thead>\n",
       "    <tr style=\"text-align: right;\">\n",
       "      <th></th>\n",
       "      <th>ID</th>\n",
       "      <th>tweet</th>\n",
       "      <th>clean_tweet</th>\n",
       "      <th>target</th>\n",
       "      <th>prob</th>\n",
       "    </tr>\n",
       "  </thead>\n",
       "  <tbody>\n",
       "    <tr>\n",
       "      <th>0</th>\n",
       "      <td>5119</td>\n",
       "      <td>Come on man RT @BasedLaRock: Oreo needs to chi...</td>\n",
       "      <td>come man   oreo needs chill know good nah  tco...</td>\n",
       "      <td>0.0</td>\n",
       "      <td>0.322175</td>\n",
       "    </tr>\n",
       "    <tr>\n",
       "      <th>1</th>\n",
       "      <td>3575</td>\n",
       "      <td>I think you fuckin wit the wrong niggah</td>\n",
       "      <td>think fuckin wit wrong niggah</td>\n",
       "      <td>1.0</td>\n",
       "      <td>0.736497</td>\n",
       "    </tr>\n",
       "    <tr>\n",
       "      <th>2</th>\n",
       "      <td>246</td>\n",
       "      <td>#russian   gorilla simulator: you need to do t...</td>\n",
       "      <td>gorilla simulator need adapt environment need ...</td>\n",
       "      <td>0.0</td>\n",
       "      <td>0.146530</td>\n",
       "    </tr>\n",
       "    <tr>\n",
       "      <th>3</th>\n",
       "      <td>3259</td>\n",
       "      <td>&amp;#8220;@M_Rad: I'm going to miss these bitches...</td>\n",
       "      <td>im going miss bitches  tcolupoqat2r9 far right...</td>\n",
       "      <td>1.0</td>\n",
       "      <td>0.418184</td>\n",
       "    </tr>\n",
       "    <tr>\n",
       "      <th>4</th>\n",
       "      <td>5805</td>\n",
       "      <td>RT @ChrisPalmerNBA: Udonis talking some big tr...</td>\n",
       "      <td>udonis talking big trash lance lebron holds</td>\n",
       "      <td>0.0</td>\n",
       "      <td>0.379720</td>\n",
       "    </tr>\n",
       "    <tr>\n",
       "      <th>...</th>\n",
       "      <td>...</td>\n",
       "      <td>...</td>\n",
       "      <td>...</td>\n",
       "      <td>...</td>\n",
       "      <td>...</td>\n",
       "    </tr>\n",
       "    <tr>\n",
       "      <th>995</th>\n",
       "      <td>1551</td>\n",
       "      <td>@user pay of #rich #white  #snobs  via @user #...</td>\n",
       "      <td>pay</td>\n",
       "      <td>1.0</td>\n",
       "      <td>0.549023</td>\n",
       "    </tr>\n",
       "    <tr>\n",
       "      <th>996</th>\n",
       "      <td>4505</td>\n",
       "      <td>@Hovaa_ your pet zebra. stripey?</td>\n",
       "      <td>pet zebra stripey</td>\n",
       "      <td>0.0</td>\n",
       "      <td>0.133636</td>\n",
       "    </tr>\n",
       "    <tr>\n",
       "      <th>997</th>\n",
       "      <td>790</td>\n",
       "      <td>orlando alligator: body of boy seized by allig...</td>\n",
       "      <td>orlando alligator body boy seized alligator found</td>\n",
       "      <td>0.0</td>\n",
       "      <td>0.177329</td>\n",
       "    </tr>\n",
       "    <tr>\n",
       "      <th>998</th>\n",
       "      <td>6826</td>\n",
       "      <td>Why is all these artist and new ones making so...</td>\n",
       "      <td>a ist new ones making trash</td>\n",
       "      <td>0.0</td>\n",
       "      <td>0.516672</td>\n",
       "    </tr>\n",
       "    <tr>\n",
       "      <th>999</th>\n",
       "      <td>4021</td>\n",
       "      <td>This bitch literally just said \"normal people ...</td>\n",
       "      <td>bitch literally said normal people shouldnt wo...</td>\n",
       "      <td>1.0</td>\n",
       "      <td>0.598566</td>\n",
       "    </tr>\n",
       "  </tbody>\n",
       "</table>\n",
       "<p>1000 rows × 5 columns</p>\n",
       "</div>"
      ],
      "text/plain": [
       "       ID                                              tweet  \\\n",
       "0    5119  Come on man RT @BasedLaRock: Oreo needs to chi...   \n",
       "1    3575            I think you fuckin wit the wrong niggah   \n",
       "2     246  #russian   gorilla simulator: you need to do t...   \n",
       "3    3259  &#8220;@M_Rad: I'm going to miss these bitches...   \n",
       "4    5805  RT @ChrisPalmerNBA: Udonis talking some big tr...   \n",
       "..    ...                                                ...   \n",
       "995  1551  @user pay of #rich #white  #snobs  via @user #...   \n",
       "996  4505                   @Hovaa_ your pet zebra. stripey?   \n",
       "997   790  orlando alligator: body of boy seized by allig...   \n",
       "998  6826  Why is all these artist and new ones making so...   \n",
       "999  4021  This bitch literally just said \"normal people ...   \n",
       "\n",
       "                                           clean_tweet  target      prob  \n",
       "0    come man   oreo needs chill know good nah  tco...     0.0  0.322175  \n",
       "1                        think fuckin wit wrong niggah     1.0  0.736497  \n",
       "2    gorilla simulator need adapt environment need ...     0.0  0.146530  \n",
       "3    im going miss bitches  tcolupoqat2r9 far right...     1.0  0.418184  \n",
       "4          udonis talking big trash lance lebron holds     0.0  0.379720  \n",
       "..                                                 ...     ...       ...  \n",
       "995                                                pay     1.0  0.549023  \n",
       "996                                  pet zebra stripey     0.0  0.133636  \n",
       "997  orlando alligator body boy seized alligator found     0.0  0.177329  \n",
       "998                        a ist new ones making trash     0.0  0.516672  \n",
       "999  bitch literally said normal people shouldnt wo...     1.0  0.598566  \n",
       "\n",
       "[1000 rows x 5 columns]"
      ]
     },
     "execution_count": 70,
     "metadata": {},
     "output_type": "execute_result"
    }
   ],
   "source": [
    "experiment_df['prob'] = model.predict(experiment_df['clean_tweet'])\n",
    "experiment_df"
   ]
  },
  {
   "cell_type": "code",
   "execution_count": null,
   "metadata": {},
   "outputs": [],
   "source": [
    "# save experiment_df to csv\n",
    "experiment_df.to_csv('../dataset/experiment_df_bert.csv', index=False)"
   ]
  },
  {
   "cell_type": "markdown",
   "metadata": {},
   "source": [
    "## Optimize threshold"
   ]
  },
  {
   "cell_type": "code",
   "execution_count": 3,
   "metadata": {},
   "outputs": [
    {
     "data": {
      "text/html": [
       "<div>\n",
       "<style scoped>\n",
       "    .dataframe tbody tr th:only-of-type {\n",
       "        vertical-align: middle;\n",
       "    }\n",
       "\n",
       "    .dataframe tbody tr th {\n",
       "        vertical-align: top;\n",
       "    }\n",
       "\n",
       "    .dataframe thead th {\n",
       "        text-align: right;\n",
       "    }\n",
       "</style>\n",
       "<table border=\"1\" class=\"dataframe\">\n",
       "  <thead>\n",
       "    <tr style=\"text-align: right;\">\n",
       "      <th></th>\n",
       "      <th>ID</th>\n",
       "      <th>tweet</th>\n",
       "      <th>clean_tweet</th>\n",
       "      <th>target</th>\n",
       "      <th>prob</th>\n",
       "      <th>y_hat</th>\n",
       "    </tr>\n",
       "  </thead>\n",
       "  <tbody>\n",
       "    <tr>\n",
       "      <th>0</th>\n",
       "      <td>5119</td>\n",
       "      <td>Come on man RT @BasedLaRock: Oreo needs to chi...</td>\n",
       "      <td>come man   oreo needs chill know good nah  tco...</td>\n",
       "      <td>0.0</td>\n",
       "      <td>0.322175</td>\n",
       "      <td>0</td>\n",
       "    </tr>\n",
       "    <tr>\n",
       "      <th>1</th>\n",
       "      <td>3575</td>\n",
       "      <td>I think you fuckin wit the wrong niggah</td>\n",
       "      <td>think fuckin wit wrong niggah</td>\n",
       "      <td>1.0</td>\n",
       "      <td>0.736497</td>\n",
       "      <td>1</td>\n",
       "    </tr>\n",
       "    <tr>\n",
       "      <th>2</th>\n",
       "      <td>246</td>\n",
       "      <td>#russian   gorilla simulator: you need to do t...</td>\n",
       "      <td>gorilla simulator need adapt environment need ...</td>\n",
       "      <td>0.0</td>\n",
       "      <td>0.146530</td>\n",
       "      <td>0</td>\n",
       "    </tr>\n",
       "    <tr>\n",
       "      <th>3</th>\n",
       "      <td>3259</td>\n",
       "      <td>&amp;#8220;@M_Rad: I'm going to miss these bitches...</td>\n",
       "      <td>im going miss bitches  tcolupoqat2r9 far right...</td>\n",
       "      <td>1.0</td>\n",
       "      <td>0.418184</td>\n",
       "      <td>0</td>\n",
       "    </tr>\n",
       "    <tr>\n",
       "      <th>4</th>\n",
       "      <td>5805</td>\n",
       "      <td>RT @ChrisPalmerNBA: Udonis talking some big tr...</td>\n",
       "      <td>udonis talking big trash lance lebron holds</td>\n",
       "      <td>0.0</td>\n",
       "      <td>0.379720</td>\n",
       "      <td>0</td>\n",
       "    </tr>\n",
       "    <tr>\n",
       "      <th>...</th>\n",
       "      <td>...</td>\n",
       "      <td>...</td>\n",
       "      <td>...</td>\n",
       "      <td>...</td>\n",
       "      <td>...</td>\n",
       "      <td>...</td>\n",
       "    </tr>\n",
       "    <tr>\n",
       "      <th>995</th>\n",
       "      <td>1551</td>\n",
       "      <td>@user pay of #rich #white  #snobs  via @user #...</td>\n",
       "      <td>pay</td>\n",
       "      <td>1.0</td>\n",
       "      <td>0.549023</td>\n",
       "      <td>1</td>\n",
       "    </tr>\n",
       "    <tr>\n",
       "      <th>996</th>\n",
       "      <td>4505</td>\n",
       "      <td>@Hovaa_ your pet zebra. stripey?</td>\n",
       "      <td>pet zebra stripey</td>\n",
       "      <td>0.0</td>\n",
       "      <td>0.133636</td>\n",
       "      <td>0</td>\n",
       "    </tr>\n",
       "    <tr>\n",
       "      <th>997</th>\n",
       "      <td>790</td>\n",
       "      <td>orlando alligator: body of boy seized by allig...</td>\n",
       "      <td>orlando alligator body boy seized alligator found</td>\n",
       "      <td>0.0</td>\n",
       "      <td>0.177329</td>\n",
       "      <td>0</td>\n",
       "    </tr>\n",
       "    <tr>\n",
       "      <th>998</th>\n",
       "      <td>6826</td>\n",
       "      <td>Why is all these artist and new ones making so...</td>\n",
       "      <td>a ist new ones making trash</td>\n",
       "      <td>0.0</td>\n",
       "      <td>0.516672</td>\n",
       "      <td>1</td>\n",
       "    </tr>\n",
       "    <tr>\n",
       "      <th>999</th>\n",
       "      <td>4021</td>\n",
       "      <td>This bitch literally just said \"normal people ...</td>\n",
       "      <td>bitch literally said normal people shouldnt wo...</td>\n",
       "      <td>1.0</td>\n",
       "      <td>0.598565</td>\n",
       "      <td>1</td>\n",
       "    </tr>\n",
       "  </tbody>\n",
       "</table>\n",
       "<p>1000 rows × 6 columns</p>\n",
       "</div>"
      ],
      "text/plain": [
       "       ID                                              tweet  \\\n",
       "0    5119  Come on man RT @BasedLaRock: Oreo needs to chi...   \n",
       "1    3575            I think you fuckin wit the wrong niggah   \n",
       "2     246  #russian   gorilla simulator: you need to do t...   \n",
       "3    3259  &#8220;@M_Rad: I'm going to miss these bitches...   \n",
       "4    5805  RT @ChrisPalmerNBA: Udonis talking some big tr...   \n",
       "..    ...                                                ...   \n",
       "995  1551  @user pay of #rich #white  #snobs  via @user #...   \n",
       "996  4505                   @Hovaa_ your pet zebra. stripey?   \n",
       "997   790  orlando alligator: body of boy seized by allig...   \n",
       "998  6826  Why is all these artist and new ones making so...   \n",
       "999  4021  This bitch literally just said \"normal people ...   \n",
       "\n",
       "                                           clean_tweet  target      prob  \\\n",
       "0    come man   oreo needs chill know good nah  tco...     0.0  0.322175   \n",
       "1                        think fuckin wit wrong niggah     1.0  0.736497   \n",
       "2    gorilla simulator need adapt environment need ...     0.0  0.146530   \n",
       "3    im going miss bitches  tcolupoqat2r9 far right...     1.0  0.418184   \n",
       "4          udonis talking big trash lance lebron holds     0.0  0.379720   \n",
       "..                                                 ...     ...       ...   \n",
       "995                                                pay     1.0  0.549023   \n",
       "996                                  pet zebra stripey     0.0  0.133636   \n",
       "997  orlando alligator body boy seized alligator found     0.0  0.177329   \n",
       "998                        a ist new ones making trash     0.0  0.516672   \n",
       "999  bitch literally said normal people shouldnt wo...     1.0  0.598565   \n",
       "\n",
       "     y_hat  \n",
       "0        0  \n",
       "1        1  \n",
       "2        0  \n",
       "3        0  \n",
       "4        0  \n",
       "..     ...  \n",
       "995      1  \n",
       "996      0  \n",
       "997      0  \n",
       "998      1  \n",
       "999      1  \n",
       "\n",
       "[1000 rows x 6 columns]"
      ]
     },
     "execution_count": 3,
     "metadata": {},
     "output_type": "execute_result"
    }
   ],
   "source": [
    "experiment_df = pd.read_csv('../dataset/experiment_df_bert.csv')\n",
    "experiment_df"
   ]
  },
  {
   "cell_type": "code",
   "execution_count": 11,
   "metadata": {
    "tags": []
   },
   "outputs": [
    {
     "name": "stderr",
     "output_type": "stream",
     "text": [
      "/Users/brianllinas/miniforge3/lib/python3.10/site-packages/sklearn/utils/validation.py:605: FutureWarning: is_sparse is deprecated and will be removed in a future version. Check `isinstance(dtype, pd.SparseDtype)` instead.\n",
      "  if is_sparse(pd_dtype):\n",
      "/Users/brianllinas/miniforge3/lib/python3.10/site-packages/sklearn/utils/validation.py:614: FutureWarning: is_sparse is deprecated and will be removed in a future version. Check `isinstance(dtype, pd.SparseDtype)` instead.\n",
      "  if is_sparse(pd_dtype) or not is_extension_array_dtype(pd_dtype):\n",
      "/Users/brianllinas/miniforge3/lib/python3.10/site-packages/sklearn/utils/validation.py:605: FutureWarning: is_sparse is deprecated and will be removed in a future version. Check `isinstance(dtype, pd.SparseDtype)` instead.\n",
      "  if is_sparse(pd_dtype):\n",
      "/Users/brianllinas/miniforge3/lib/python3.10/site-packages/sklearn/utils/validation.py:614: FutureWarning: is_sparse is deprecated and will be removed in a future version. Check `isinstance(dtype, pd.SparseDtype)` instead.\n",
      "  if is_sparse(pd_dtype) or not is_extension_array_dtype(pd_dtype):\n",
      "/Users/brianllinas/miniforge3/lib/python3.10/site-packages/sklearn/utils/validation.py:605: FutureWarning: is_sparse is deprecated and will be removed in a future version. Check `isinstance(dtype, pd.SparseDtype)` instead.\n",
      "  if is_sparse(pd_dtype):\n",
      "/Users/brianllinas/miniforge3/lib/python3.10/site-packages/sklearn/utils/validation.py:614: FutureWarning: is_sparse is deprecated and will be removed in a future version. Check `isinstance(dtype, pd.SparseDtype)` instead.\n",
      "  if is_sparse(pd_dtype) or not is_extension_array_dtype(pd_dtype):\n",
      "/Users/brianllinas/miniforge3/lib/python3.10/site-packages/sklearn/utils/validation.py:605: FutureWarning: is_sparse is deprecated and will be removed in a future version. Check `isinstance(dtype, pd.SparseDtype)` instead.\n",
      "  if is_sparse(pd_dtype):\n",
      "/Users/brianllinas/miniforge3/lib/python3.10/site-packages/sklearn/utils/validation.py:614: FutureWarning: is_sparse is deprecated and will be removed in a future version. Check `isinstance(dtype, pd.SparseDtype)` instead.\n",
      "  if is_sparse(pd_dtype) or not is_extension_array_dtype(pd_dtype):\n"
     ]
    },
    {
     "data": {
      "image/png": "[encoded data removed]",
      "text/plain": [
       "<Figure size 800x600 with 1 Axes>"
      ]
     },
     "metadata": {},
     "output_type": "display_data"
    }
   ],
   "source": [
    "from sklearn import metrics\n",
    "from sklearn import tree\n",
    "from sklearn import ensemble\n",
    "import matplotlib.pyplot as plt\n",
    "import seaborn as sns\n",
    "\n",
    "fpr, tpr, thresholds = metrics.roc_curve(experiment_df['target'],experiment_df['prob'])\n",
    "\n",
    "# Plotting the ROC curve\n",
    "with sns.axes_style(\"whitegrid\"):\n",
    "    plt.figure(figsize=(8, 6))\n",
    "\n",
    "    plt.plot(fpr, tpr, label=f'AUC = {metrics.auc(fpr, tpr):.2f}')\n",
    "    plt.plot([0, 1], [0, 1], 'k--')  # Diagonal line for reference\n",
    "\n",
    "    plt.xlabel('False Positive Rate')\n",
    "    plt.ylabel('True Positive Rate')\n",
    "    plt.title('ROC Curve')\n",
    "    plt.legend()\n",
    "\n",
    "    # Display the plot\n",
    "    plt.show()"
   ]
  },
  {
   "cell_type": "code",
   "execution_count": 5,
   "metadata": {
    "tags": []
   },
   "outputs": [
    {
     "data": {
      "text/plain": [
       "0.8317106439019801"
      ]
     },
     "execution_count": 5,
     "metadata": {},
     "output_type": "execute_result"
    }
   ],
   "source": [
    "auc_rl=metrics.auc(fpr,tpr)\n",
    "auc_rl"
   ]
  },
  {
   "cell_type": "code",
   "execution_count": 6,
   "metadata": {
    "tags": []
   },
   "outputs": [
    {
     "data": {
      "text/html": [
       "<div>\n",
       "<style scoped>\n",
       "    .dataframe tbody tr th:only-of-type {\n",
       "        vertical-align: middle;\n",
       "    }\n",
       "\n",
       "    .dataframe tbody tr th {\n",
       "        vertical-align: top;\n",
       "    }\n",
       "\n",
       "    .dataframe thead th {\n",
       "        text-align: right;\n",
       "    }\n",
       "</style>\n",
       "<table border=\"1\" class=\"dataframe\">\n",
       "  <thead>\n",
       "    <tr style=\"text-align: right;\">\n",
       "      <th></th>\n",
       "      <th>tpr</th>\n",
       "      <th>fpr</th>\n",
       "      <th>thresholds</th>\n",
       "      <th>Youden</th>\n",
       "    </tr>\n",
       "  </thead>\n",
       "  <tbody>\n",
       "    <tr>\n",
       "      <th>129</th>\n",
       "      <td>0.648794</td>\n",
       "      <td>0.141946</td>\n",
       "      <td>0.451687</td>\n",
       "      <td>0.506848</td>\n",
       "    </tr>\n",
       "  </tbody>\n",
       "</table>\n",
       "</div>"
      ],
      "text/plain": [
       "          tpr       fpr  thresholds    Youden\n",
       "129  0.648794  0.141946    0.451687  0.506848"
      ]
     },
     "execution_count": 6,
     "metadata": {},
     "output_type": "execute_result"
    }
   ],
   "source": [
    "df_tree=pd.DataFrame({'tpr':tpr,'fpr':fpr,'thresholds':thresholds,'Youden':tpr+(1-fpr)-1})\n",
    "df_tree.sort_values('Youden',ascending=False).head(1)"
   ]
  },
  {
   "cell_type": "code",
   "execution_count": 14,
   "metadata": {},
   "outputs": [
    {
     "name": "stderr",
     "output_type": "stream",
     "text": [
      "/Users/brianllinas/miniforge3/lib/python3.10/site-packages/sklearn/utils/validation.py:605: FutureWarning: is_sparse is deprecated and will be removed in a future version. Check `isinstance(dtype, pd.SparseDtype)` instead.\n",
      "  if is_sparse(pd_dtype):\n",
      "/Users/brianllinas/miniforge3/lib/python3.10/site-packages/sklearn/utils/validation.py:614: FutureWarning: is_sparse is deprecated and will be removed in a future version. Check `isinstance(dtype, pd.SparseDtype)` instead.\n",
      "  if is_sparse(pd_dtype) or not is_extension_array_dtype(pd_dtype):\n",
      "/Users/brianllinas/miniforge3/lib/python3.10/site-packages/sklearn/utils/validation.py:605: FutureWarning: is_sparse is deprecated and will be removed in a future version. Check `isinstance(dtype, pd.SparseDtype)` instead.\n",
      "  if is_sparse(pd_dtype):\n",
      "/Users/brianllinas/miniforge3/lib/python3.10/site-packages/sklearn/utils/validation.py:614: FutureWarning: is_sparse is deprecated and will be removed in a future version. Check `isinstance(dtype, pd.SparseDtype)` instead.\n",
      "  if is_sparse(pd_dtype) or not is_extension_array_dtype(pd_dtype):\n",
      "/Users/brianllinas/miniforge3/lib/python3.10/site-packages/sklearn/utils/validation.py:605: FutureWarning: is_sparse is deprecated and will be removed in a future version. Check `isinstance(dtype, pd.SparseDtype)` instead.\n",
      "  if is_sparse(pd_dtype):\n",
      "/Users/brianllinas/miniforge3/lib/python3.10/site-packages/sklearn/utils/validation.py:614: FutureWarning: is_sparse is deprecated and will be removed in a future version. Check `isinstance(dtype, pd.SparseDtype)` instead.\n",
      "  if is_sparse(pd_dtype) or not is_extension_array_dtype(pd_dtype):\n",
      "/Users/brianllinas/miniforge3/lib/python3.10/site-packages/sklearn/utils/validation.py:605: FutureWarning: is_sparse is deprecated and will be removed in a future version. Check `isinstance(dtype, pd.SparseDtype)` instead.\n",
      "  if is_sparse(pd_dtype):\n",
      "/Users/brianllinas/miniforge3/lib/python3.10/site-packages/sklearn/utils/validation.py:614: FutureWarning: is_sparse is deprecated and will be removed in a future version. Check `isinstance(dtype, pd.SparseDtype)` instead.\n",
      "  if is_sparse(pd_dtype) or not is_extension_array_dtype(pd_dtype):\n"
     ]
    },
    {
     "data": {
      "image/png": "[encoded data removed]",
      "text/plain": [
       "<Figure size 800x600 with 1 Axes>"
      ]
     },
     "metadata": {},
     "output_type": "display_data"
    }
   ],
   "source": [
    "import matplotlib.pyplot as plt\n",
    "import seaborn as sns\n",
    "from sklearn import metrics\n",
    "\n",
    "# Assuming experiment_df is your DataFrame\n",
    "# Replace 'path/to/save/experiment_df.csv' with the actual path and filename\n",
    "\n",
    "# Calculate ROC curve\n",
    "fpr, tpr, thresholds = metrics.roc_curve(experiment_df['target'], experiment_df['prob'])\n",
    "\n",
    "# Calculate Youden's J statistic\n",
    "youden = tpr + (1 - fpr) - 1\n",
    "\n",
    "# Find the optimal threshold\n",
    "optimal_threshold_row = df_tree.sort_values('Youden', ascending=False).head(1)\n",
    "optimal_threshold = optimal_threshold_row['thresholds'].values[0]\n",
    "\n",
    "# Plotting the ROC curve\n",
    "with sns.axes_style(\"whitegrid\"):\n",
    "    plt.figure(figsize=(8, 6))\n",
    "\n",
    "    plt.plot(fpr, tpr, label=f'AUC = {metrics.auc(fpr, tpr):.2f}')\n",
    "    plt.plot([0, 1], [0, 1], 'k--')  # Diagonal line for reference\n",
    "\n",
    "    # Mark the optimal threshold on the plot\n",
    "    plt.scatter(optimal_threshold_row['fpr'], optimal_threshold_row['tpr'], c='red', marker='x', label=f'Optimal Threshold: {optimal_threshold:.3f}')\n",
    "\n",
    "    plt.xlabel('False Positive Rate')\n",
    "    plt.ylabel('True Positive Rate')\n",
    "    plt.title('ROC Curve (Bert Model)')\n",
    "    plt.legend()\n",
    "\n",
    "    # Display the plot\n",
    "    plt.show()\n"
   ]
  },
  {
   "cell_type": "code",
   "execution_count": 7,
   "metadata": {
    "tags": []
   },
   "outputs": [
    {
     "data": {
      "text/html": [
       "<div>\n",
       "<style scoped>\n",
       "    .dataframe tbody tr th:only-of-type {\n",
       "        vertical-align: middle;\n",
       "    }\n",
       "\n",
       "    .dataframe tbody tr th {\n",
       "        vertical-align: top;\n",
       "    }\n",
       "\n",
       "    .dataframe thead th {\n",
       "        text-align: right;\n",
       "    }\n",
       "</style>\n",
       "<table border=\"1\" class=\"dataframe\">\n",
       "  <thead>\n",
       "    <tr style=\"text-align: right;\">\n",
       "      <th></th>\n",
       "      <th>ID</th>\n",
       "      <th>tweet</th>\n",
       "      <th>clean_tweet</th>\n",
       "      <th>target</th>\n",
       "      <th>prob</th>\n",
       "      <th>y_hat</th>\n",
       "    </tr>\n",
       "  </thead>\n",
       "  <tbody>\n",
       "    <tr>\n",
       "      <th>0</th>\n",
       "      <td>5119</td>\n",
       "      <td>Come on man RT @BasedLaRock: Oreo needs to chi...</td>\n",
       "      <td>come man   oreo needs chill know good nah  tco...</td>\n",
       "      <td>0.0</td>\n",
       "      <td>0.322175</td>\n",
       "      <td>0</td>\n",
       "    </tr>\n",
       "    <tr>\n",
       "      <th>1</th>\n",
       "      <td>3575</td>\n",
       "      <td>I think you fuckin wit the wrong niggah</td>\n",
       "      <td>think fuckin wit wrong niggah</td>\n",
       "      <td>1.0</td>\n",
       "      <td>0.736497</td>\n",
       "      <td>1</td>\n",
       "    </tr>\n",
       "    <tr>\n",
       "      <th>2</th>\n",
       "      <td>246</td>\n",
       "      <td>#russian   gorilla simulator: you need to do t...</td>\n",
       "      <td>gorilla simulator need adapt environment need ...</td>\n",
       "      <td>0.0</td>\n",
       "      <td>0.146530</td>\n",
       "      <td>0</td>\n",
       "    </tr>\n",
       "    <tr>\n",
       "      <th>3</th>\n",
       "      <td>3259</td>\n",
       "      <td>&amp;#8220;@M_Rad: I'm going to miss these bitches...</td>\n",
       "      <td>im going miss bitches  tcolupoqat2r9 far right...</td>\n",
       "      <td>1.0</td>\n",
       "      <td>0.418184</td>\n",
       "      <td>0</td>\n",
       "    </tr>\n",
       "    <tr>\n",
       "      <th>4</th>\n",
       "      <td>5805</td>\n",
       "      <td>RT @ChrisPalmerNBA: Udonis talking some big tr...</td>\n",
       "      <td>udonis talking big trash lance lebron holds</td>\n",
       "      <td>0.0</td>\n",
       "      <td>0.379720</td>\n",
       "      <td>0</td>\n",
       "    </tr>\n",
       "    <tr>\n",
       "      <th>...</th>\n",
       "      <td>...</td>\n",
       "      <td>...</td>\n",
       "      <td>...</td>\n",
       "      <td>...</td>\n",
       "      <td>...</td>\n",
       "      <td>...</td>\n",
       "    </tr>\n",
       "    <tr>\n",
       "      <th>995</th>\n",
       "      <td>1551</td>\n",
       "      <td>@user pay of #rich #white  #snobs  via @user #...</td>\n",
       "      <td>pay</td>\n",
       "      <td>1.0</td>\n",
       "      <td>0.549023</td>\n",
       "      <td>1</td>\n",
       "    </tr>\n",
       "    <tr>\n",
       "      <th>996</th>\n",
       "      <td>4505</td>\n",
       "      <td>@Hovaa_ your pet zebra. stripey?</td>\n",
       "      <td>pet zebra stripey</td>\n",
       "      <td>0.0</td>\n",
       "      <td>0.133636</td>\n",
       "      <td>0</td>\n",
       "    </tr>\n",
       "    <tr>\n",
       "      <th>997</th>\n",
       "      <td>790</td>\n",
       "      <td>orlando alligator: body of boy seized by allig...</td>\n",
       "      <td>orlando alligator body boy seized alligator found</td>\n",
       "      <td>0.0</td>\n",
       "      <td>0.177329</td>\n",
       "      <td>0</td>\n",
       "    </tr>\n",
       "    <tr>\n",
       "      <th>998</th>\n",
       "      <td>6826</td>\n",
       "      <td>Why is all these artist and new ones making so...</td>\n",
       "      <td>a ist new ones making trash</td>\n",
       "      <td>0.0</td>\n",
       "      <td>0.516672</td>\n",
       "      <td>1</td>\n",
       "    </tr>\n",
       "    <tr>\n",
       "      <th>999</th>\n",
       "      <td>4021</td>\n",
       "      <td>This bitch literally just said \"normal people ...</td>\n",
       "      <td>bitch literally said normal people shouldnt wo...</td>\n",
       "      <td>1.0</td>\n",
       "      <td>0.598565</td>\n",
       "      <td>1</td>\n",
       "    </tr>\n",
       "  </tbody>\n",
       "</table>\n",
       "<p>1000 rows × 6 columns</p>\n",
       "</div>"
      ],
      "text/plain": [
       "       ID                                              tweet  \\\n",
       "0    5119  Come on man RT @BasedLaRock: Oreo needs to chi...   \n",
       "1    3575            I think you fuckin wit the wrong niggah   \n",
       "2     246  #russian   gorilla simulator: you need to do t...   \n",
       "3    3259  &#8220;@M_Rad: I'm going to miss these bitches...   \n",
       "4    5805  RT @ChrisPalmerNBA: Udonis talking some big tr...   \n",
       "..    ...                                                ...   \n",
       "995  1551  @user pay of #rich #white  #snobs  via @user #...   \n",
       "996  4505                   @Hovaa_ your pet zebra. stripey?   \n",
       "997   790  orlando alligator: body of boy seized by allig...   \n",
       "998  6826  Why is all these artist and new ones making so...   \n",
       "999  4021  This bitch literally just said \"normal people ...   \n",
       "\n",
       "                                           clean_tweet  target      prob  \\\n",
       "0    come man   oreo needs chill know good nah  tco...     0.0  0.322175   \n",
       "1                        think fuckin wit wrong niggah     1.0  0.736497   \n",
       "2    gorilla simulator need adapt environment need ...     0.0  0.146530   \n",
       "3    im going miss bitches  tcolupoqat2r9 far right...     1.0  0.418184   \n",
       "4          udonis talking big trash lance lebron holds     0.0  0.379720   \n",
       "..                                                 ...     ...       ...   \n",
       "995                                                pay     1.0  0.549023   \n",
       "996                                  pet zebra stripey     0.0  0.133636   \n",
       "997  orlando alligator body boy seized alligator found     0.0  0.177329   \n",
       "998                        a ist new ones making trash     0.0  0.516672   \n",
       "999  bitch literally said normal people shouldnt wo...     1.0  0.598565   \n",
       "\n",
       "     y_hat  \n",
       "0        0  \n",
       "1        1  \n",
       "2        0  \n",
       "3        0  \n",
       "4        0  \n",
       "..     ...  \n",
       "995      1  \n",
       "996      0  \n",
       "997      0  \n",
       "998      1  \n",
       "999      1  \n",
       "\n",
       "[1000 rows x 6 columns]"
      ]
     },
     "execution_count": 7,
     "metadata": {},
     "output_type": "execute_result"
    }
   ],
   "source": [
    "import numpy as np\n",
    "\n",
    "experiment_df['y_hat'] = np.where(experiment_df['prob'] > 0.451687, 1, 0)\n",
    "experiment_df"
   ]
  },
  {
   "cell_type": "markdown",
   "metadata": {},
   "source": [
    "## Check performance"
   ]
  },
  {
   "cell_type": "code",
   "execution_count": 8,
   "metadata": {
    "tags": []
   },
   "outputs": [
    {
     "name": "stderr",
     "output_type": "stream",
     "text": [
      "/Users/brianllinas/miniforge3/lib/python3.10/site-packages/sklearn/utils/validation.py:605: FutureWarning: is_sparse is deprecated and will be removed in a future version. Check `isinstance(dtype, pd.SparseDtype)` instead.\n",
      "  if is_sparse(pd_dtype):\n",
      "/Users/brianllinas/miniforge3/lib/python3.10/site-packages/sklearn/utils/validation.py:614: FutureWarning: is_sparse is deprecated and will be removed in a future version. Check `isinstance(dtype, pd.SparseDtype)` instead.\n",
      "  if is_sparse(pd_dtype) or not is_extension_array_dtype(pd_dtype):\n",
      "/Users/brianllinas/miniforge3/lib/python3.10/site-packages/sklearn/utils/validation.py:605: FutureWarning: is_sparse is deprecated and will be removed in a future version. Check `isinstance(dtype, pd.SparseDtype)` instead.\n",
      "  if is_sparse(pd_dtype):\n",
      "/Users/brianllinas/miniforge3/lib/python3.10/site-packages/sklearn/utils/validation.py:614: FutureWarning: is_sparse is deprecated and will be removed in a future version. Check `isinstance(dtype, pd.SparseDtype)` instead.\n",
      "  if is_sparse(pd_dtype) or not is_extension_array_dtype(pd_dtype):\n",
      "/Users/brianllinas/miniforge3/lib/python3.10/site-packages/sklearn/utils/validation.py:605: FutureWarning: is_sparse is deprecated and will be removed in a future version. Check `isinstance(dtype, pd.SparseDtype)` instead.\n",
      "  if is_sparse(pd_dtype):\n",
      "/Users/brianllinas/miniforge3/lib/python3.10/site-packages/sklearn/utils/validation.py:614: FutureWarning: is_sparse is deprecated and will be removed in a future version. Check `isinstance(dtype, pd.SparseDtype)` instead.\n",
      "  if is_sparse(pd_dtype) or not is_extension_array_dtype(pd_dtype):\n",
      "/Users/brianllinas/miniforge3/lib/python3.10/site-packages/sklearn/utils/validation.py:605: FutureWarning: is_sparse is deprecated and will be removed in a future version. Check `isinstance(dtype, pd.SparseDtype)` instead.\n",
      "  if is_sparse(pd_dtype):\n",
      "/Users/brianllinas/miniforge3/lib/python3.10/site-packages/sklearn/utils/validation.py:614: FutureWarning: is_sparse is deprecated and will be removed in a future version. Check `isinstance(dtype, pd.SparseDtype)` instead.\n",
      "  if is_sparse(pd_dtype) or not is_extension_array_dtype(pd_dtype):\n",
      "/Users/brianllinas/miniforge3/lib/python3.10/site-packages/sklearn/utils/validation.py:605: FutureWarning: is_sparse is deprecated and will be removed in a future version. Check `isinstance(dtype, pd.SparseDtype)` instead.\n",
      "  if is_sparse(pd_dtype):\n",
      "/Users/brianllinas/miniforge3/lib/python3.10/site-packages/sklearn/utils/validation.py:614: FutureWarning: is_sparse is deprecated and will be removed in a future version. Check `isinstance(dtype, pd.SparseDtype)` instead.\n",
      "  if is_sparse(pd_dtype) or not is_extension_array_dtype(pd_dtype):\n",
      "/Users/brianllinas/miniforge3/lib/python3.10/site-packages/sklearn/utils/validation.py:605: FutureWarning: is_sparse is deprecated and will be removed in a future version. Check `isinstance(dtype, pd.SparseDtype)` instead.\n",
      "  if is_sparse(pd_dtype):\n",
      "/Users/brianllinas/miniforge3/lib/python3.10/site-packages/sklearn/utils/validation.py:614: FutureWarning: is_sparse is deprecated and will be removed in a future version. Check `isinstance(dtype, pd.SparseDtype)` instead.\n",
      "  if is_sparse(pd_dtype) or not is_extension_array_dtype(pd_dtype):\n"
     ]
    },
    {
     "data": {
      "text/plain": [
       "array([[538,  89],\n",
       "       [131, 242]])"
      ]
     },
     "execution_count": 8,
     "metadata": {},
     "output_type": "execute_result"
    }
   ],
   "source": [
    "from sklearn.metrics import confusion_matrix, classification_report\n",
    "\n",
    "cm = confusion_matrix(experiment_df['target'], experiment_df['y_hat'])\n",
    "cm"
   ]
  },
  {
   "cell_type": "code",
   "execution_count": 9,
   "metadata": {
    "tags": []
   },
   "outputs": [
    {
     "data": {
      "image/png": "[encoded data removed]",
      "text/plain": [
       "<Figure size 640x480 with 1 Axes>"
      ]
     },
     "metadata": {},
     "output_type": "display_data"
    }
   ],
   "source": [
    "from matplotlib import pyplot as plt\n",
    "import seaborn as sns\n",
    "\n",
    "sns.heatmap(cm, annot=True, fmt='d', cmap='Blues', cbar=False)\n",
    "plt.xlabel('Predicted')\n",
    "plt.ylabel('Actual')\n",
    "plt.title('Confusion Matrix')\n",
    "\n",
    "# Display the plot\n",
    "plt.show()"
   ]
  },
  {
   "cell_type": "code",
   "execution_count": 10,
   "metadata": {
    "tags": []
   },
   "outputs": [
    {
     "name": "stdout",
     "output_type": "stream",
     "text": [
      "              precision    recall  f1-score   support\n",
      "\n",
      "         0.0       0.80      0.86      0.83       627\n",
      "         1.0       0.73      0.65      0.69       373\n",
      "\n",
      "    accuracy                           0.78      1000\n",
      "   macro avg       0.77      0.75      0.76      1000\n",
      "weighted avg       0.78      0.78      0.78      1000\n",
      "\n"
     ]
    },
    {
     "name": "stderr",
     "output_type": "stream",
     "text": [
      "/Users/brianllinas/miniforge3/lib/python3.10/site-packages/sklearn/utils/validation.py:605: FutureWarning: is_sparse is deprecated and will be removed in a future version. Check `isinstance(dtype, pd.SparseDtype)` instead.\n",
      "  if is_sparse(pd_dtype):\n",
      "/Users/brianllinas/miniforge3/lib/python3.10/site-packages/sklearn/utils/validation.py:614: FutureWarning: is_sparse is deprecated and will be removed in a future version. Check `isinstance(dtype, pd.SparseDtype)` instead.\n",
      "  if is_sparse(pd_dtype) or not is_extension_array_dtype(pd_dtype):\n",
      "/Users/brianllinas/miniforge3/lib/python3.10/site-packages/sklearn/utils/validation.py:605: FutureWarning: is_sparse is deprecated and will be removed in a future version. Check `isinstance(dtype, pd.SparseDtype)` instead.\n",
      "  if is_sparse(pd_dtype):\n",
      "/Users/brianllinas/miniforge3/lib/python3.10/site-packages/sklearn/utils/validation.py:614: FutureWarning: is_sparse is deprecated and will be removed in a future version. Check `isinstance(dtype, pd.SparseDtype)` instead.\n",
      "  if is_sparse(pd_dtype) or not is_extension_array_dtype(pd_dtype):\n",
      "/Users/brianllinas/miniforge3/lib/python3.10/site-packages/sklearn/utils/validation.py:605: FutureWarning: is_sparse is deprecated and will be removed in a future version. Check `isinstance(dtype, pd.SparseDtype)` instead.\n",
      "  if is_sparse(pd_dtype):\n",
      "/Users/brianllinas/miniforge3/lib/python3.10/site-packages/sklearn/utils/validation.py:614: FutureWarning: is_sparse is deprecated and will be removed in a future version. Check `isinstance(dtype, pd.SparseDtype)` instead.\n",
      "  if is_sparse(pd_dtype) or not is_extension_array_dtype(pd_dtype):\n",
      "/Users/brianllinas/miniforge3/lib/python3.10/site-packages/sklearn/utils/validation.py:605: FutureWarning: is_sparse is deprecated and will be removed in a future version. Check `isinstance(dtype, pd.SparseDtype)` instead.\n",
      "  if is_sparse(pd_dtype):\n",
      "/Users/brianllinas/miniforge3/lib/python3.10/site-packages/sklearn/utils/validation.py:614: FutureWarning: is_sparse is deprecated and will be removed in a future version. Check `isinstance(dtype, pd.SparseDtype)` instead.\n",
      "  if is_sparse(pd_dtype) or not is_extension_array_dtype(pd_dtype):\n",
      "/Users/brianllinas/miniforge3/lib/python3.10/site-packages/sklearn/utils/validation.py:605: FutureWarning: is_sparse is deprecated and will be removed in a future version. Check `isinstance(dtype, pd.SparseDtype)` instead.\n",
      "  if is_sparse(pd_dtype):\n",
      "/Users/brianllinas/miniforge3/lib/python3.10/site-packages/sklearn/utils/validation.py:614: FutureWarning: is_sparse is deprecated and will be removed in a future version. Check `isinstance(dtype, pd.SparseDtype)` instead.\n",
      "  if is_sparse(pd_dtype) or not is_extension_array_dtype(pd_dtype):\n",
      "/Users/brianllinas/miniforge3/lib/python3.10/site-packages/sklearn/utils/validation.py:605: FutureWarning: is_sparse is deprecated and will be removed in a future version. Check `isinstance(dtype, pd.SparseDtype)` instead.\n",
      "  if is_sparse(pd_dtype):\n",
      "/Users/brianllinas/miniforge3/lib/python3.10/site-packages/sklearn/utils/validation.py:614: FutureWarning: is_sparse is deprecated and will be removed in a future version. Check `isinstance(dtype, pd.SparseDtype)` instead.\n",
      "  if is_sparse(pd_dtype) or not is_extension_array_dtype(pd_dtype):\n"
     ]
    }
   ],
   "source": [
    "print(classification_report(experiment_df['target'], experiment_df['y_hat']))"
   ]
  },
  {
   "cell_type": "code",
   "execution_count": 17,
   "metadata": {},
   "outputs": [
    {
     "name": "stderr",
     "output_type": "stream",
     "text": [
      "/Users/brianllinas/miniforge3/lib/python3.10/site-packages/sklearn/utils/validation.py:605: FutureWarning: is_sparse is deprecated and will be removed in a future version. Check `isinstance(dtype, pd.SparseDtype)` instead.\n",
      "  if is_sparse(pd_dtype):\n",
      "/Users/brianllinas/miniforge3/lib/python3.10/site-packages/sklearn/utils/validation.py:614: FutureWarning: is_sparse is deprecated and will be removed in a future version. Check `isinstance(dtype, pd.SparseDtype)` instead.\n",
      "  if is_sparse(pd_dtype) or not is_extension_array_dtype(pd_dtype):\n",
      "/Users/brianllinas/miniforge3/lib/python3.10/site-packages/sklearn/utils/validation.py:605: FutureWarning: is_sparse is deprecated and will be removed in a future version. Check `isinstance(dtype, pd.SparseDtype)` instead.\n",
      "  if is_sparse(pd_dtype):\n",
      "/Users/brianllinas/miniforge3/lib/python3.10/site-packages/sklearn/utils/validation.py:614: FutureWarning: is_sparse is deprecated and will be removed in a future version. Check `isinstance(dtype, pd.SparseDtype)` instead.\n",
      "  if is_sparse(pd_dtype) or not is_extension_array_dtype(pd_dtype):\n",
      "/Users/brianllinas/miniforge3/lib/python3.10/site-packages/sklearn/utils/validation.py:605: FutureWarning: is_sparse is deprecated and will be removed in a future version. Check `isinstance(dtype, pd.SparseDtype)` instead.\n",
      "  if is_sparse(pd_dtype):\n",
      "/Users/brianllinas/miniforge3/lib/python3.10/site-packages/sklearn/utils/validation.py:614: FutureWarning: is_sparse is deprecated and will be removed in a future version. Check `isinstance(dtype, pd.SparseDtype)` instead.\n",
      "  if is_sparse(pd_dtype) or not is_extension_array_dtype(pd_dtype):\n",
      "/Users/brianllinas/miniforge3/lib/python3.10/site-packages/sklearn/utils/validation.py:605: FutureWarning: is_sparse is deprecated and will be removed in a future version. Check `isinstance(dtype, pd.SparseDtype)` instead.\n",
      "  if is_sparse(pd_dtype):\n",
      "/Users/brianllinas/miniforge3/lib/python3.10/site-packages/sklearn/utils/validation.py:614: FutureWarning: is_sparse is deprecated and will be removed in a future version. Check `isinstance(dtype, pd.SparseDtype)` instead.\n",
      "  if is_sparse(pd_dtype) or not is_extension_array_dtype(pd_dtype):\n",
      "/Users/brianllinas/miniforge3/lib/python3.10/site-packages/sklearn/utils/validation.py:605: FutureWarning: is_sparse is deprecated and will be removed in a future version. Check `isinstance(dtype, pd.SparseDtype)` instead.\n",
      "  if is_sparse(pd_dtype):\n",
      "/Users/brianllinas/miniforge3/lib/python3.10/site-packages/sklearn/utils/validation.py:614: FutureWarning: is_sparse is deprecated and will be removed in a future version. Check `isinstance(dtype, pd.SparseDtype)` instead.\n",
      "  if is_sparse(pd_dtype) or not is_extension_array_dtype(pd_dtype):\n",
      "/Users/brianllinas/miniforge3/lib/python3.10/site-packages/sklearn/utils/validation.py:605: FutureWarning: is_sparse is deprecated and will be removed in a future version. Check `isinstance(dtype, pd.SparseDtype)` instead.\n",
      "  if is_sparse(pd_dtype):\n",
      "/Users/brianllinas/miniforge3/lib/python3.10/site-packages/sklearn/utils/validation.py:614: FutureWarning: is_sparse is deprecated and will be removed in a future version. Check `isinstance(dtype, pd.SparseDtype)` instead.\n",
      "  if is_sparse(pd_dtype) or not is_extension_array_dtype(pd_dtype):\n"
     ]
    },
    {
     "data": {
      "image/png": "[encoded data removed]",
      "text/plain": [
       "<Figure size 1400x600 with 2 Axes>"
      ]
     },
     "metadata": {},
     "output_type": "display_data"
    }
   ],
   "source": [
    "from matplotlib import pyplot as plt\n",
    "import seaborn as sns\n",
    "from sklearn.metrics import confusion_matrix, classification_report\n",
    "\n",
    "\n",
    "# Assuming you have computed the confusion matrix and classification report\n",
    "# Replace this with your actual values\n",
    "classification_rep = classification_report(experiment_df['target'], experiment_df['y_hat'])\n",
    "\n",
    "# Set up the figure with a grid layout and some space between subplots\n",
    "fig, ax = plt.subplots(figsize=(14, 6), nrows=1, ncols=2, gridspec_kw={'width_ratios': [1, 2], 'wspace': 0.3})\n",
    "\n",
    "# Plotting the confusion matrix\n",
    "with sns.axes_style(\"whitegrid\"):\n",
    "    sns.heatmap(cm, annot=True, fmt='d', cmap='Blues', cbar=False, ax=ax[0])\n",
    "    ax[0].set_xlabel('Predicted')\n",
    "    ax[0].set_ylabel('Actual')\n",
    "    ax[0].set_title('Confusion Matrix')\n",
    "\n",
    "# Add classification report information to the plot\n",
    "ax[1].text(0.5, 0.5, classification_rep, horizontalalignment='center', verticalalignment='center', transform=ax[1].transAxes, bbox=dict(facecolor='white', alpha=0.5))\n",
    "ax[1].axis('off')  # Turn off axis for the classification report plot\n",
    "\n",
    "# Display the plot\n",
    "plt.show()\n"
   ]
  },
  {
   "cell_type": "code",
   "execution_count": 18,
   "metadata": {},
   "outputs": [
    {
     "name": "stderr",
     "output_type": "stream",
     "text": [
      "/Users/brianllinas/miniforge3/lib/python3.10/site-packages/sklearn/utils/validation.py:605: FutureWarning: is_sparse is deprecated and will be removed in a future version. Check `isinstance(dtype, pd.SparseDtype)` instead.\n",
      "  if is_sparse(pd_dtype):\n",
      "/Users/brianllinas/miniforge3/lib/python3.10/site-packages/sklearn/utils/validation.py:614: FutureWarning: is_sparse is deprecated and will be removed in a future version. Check `isinstance(dtype, pd.SparseDtype)` instead.\n",
      "  if is_sparse(pd_dtype) or not is_extension_array_dtype(pd_dtype):\n",
      "/Users/brianllinas/miniforge3/lib/python3.10/site-packages/sklearn/utils/validation.py:605: FutureWarning: is_sparse is deprecated and will be removed in a future version. Check `isinstance(dtype, pd.SparseDtype)` instead.\n",
      "  if is_sparse(pd_dtype):\n",
      "/Users/brianllinas/miniforge3/lib/python3.10/site-packages/sklearn/utils/validation.py:614: FutureWarning: is_sparse is deprecated and will be removed in a future version. Check `isinstance(dtype, pd.SparseDtype)` instead.\n",
      "  if is_sparse(pd_dtype) or not is_extension_array_dtype(pd_dtype):\n",
      "/Users/brianllinas/miniforge3/lib/python3.10/site-packages/sklearn/utils/validation.py:605: FutureWarning: is_sparse is deprecated and will be removed in a future version. Check `isinstance(dtype, pd.SparseDtype)` instead.\n",
      "  if is_sparse(pd_dtype):\n",
      "/Users/brianllinas/miniforge3/lib/python3.10/site-packages/sklearn/utils/validation.py:614: FutureWarning: is_sparse is deprecated and will be removed in a future version. Check `isinstance(dtype, pd.SparseDtype)` instead.\n",
      "  if is_sparse(pd_dtype) or not is_extension_array_dtype(pd_dtype):\n",
      "/Users/brianllinas/miniforge3/lib/python3.10/site-packages/sklearn/utils/validation.py:605: FutureWarning: is_sparse is deprecated and will be removed in a future version. Check `isinstance(dtype, pd.SparseDtype)` instead.\n",
      "  if is_sparse(pd_dtype):\n",
      "/Users/brianllinas/miniforge3/lib/python3.10/site-packages/sklearn/utils/validation.py:614: FutureWarning: is_sparse is deprecated and will be removed in a future version. Check `isinstance(dtype, pd.SparseDtype)` instead.\n",
      "  if is_sparse(pd_dtype) or not is_extension_array_dtype(pd_dtype):\n",
      "/Users/brianllinas/miniforge3/lib/python3.10/site-packages/sklearn/utils/validation.py:605: FutureWarning: is_sparse is deprecated and will be removed in a future version. Check `isinstance(dtype, pd.SparseDtype)` instead.\n",
      "  if is_sparse(pd_dtype):\n",
      "/Users/brianllinas/miniforge3/lib/python3.10/site-packages/sklearn/utils/validation.py:614: FutureWarning: is_sparse is deprecated and will be removed in a future version. Check `isinstance(dtype, pd.SparseDtype)` instead.\n",
      "  if is_sparse(pd_dtype) or not is_extension_array_dtype(pd_dtype):\n",
      "/Users/brianllinas/miniforge3/lib/python3.10/site-packages/sklearn/utils/validation.py:605: FutureWarning: is_sparse is deprecated and will be removed in a future version. Check `isinstance(dtype, pd.SparseDtype)` instead.\n",
      "  if is_sparse(pd_dtype):\n",
      "/Users/brianllinas/miniforge3/lib/python3.10/site-packages/sklearn/utils/validation.py:614: FutureWarning: is_sparse is deprecated and will be removed in a future version. Check `isinstance(dtype, pd.SparseDtype)` instead.\n",
      "  if is_sparse(pd_dtype) or not is_extension_array_dtype(pd_dtype):\n"
     ]
    },
    {
     "data": {
      "image/png": "[encoded data removed]",
      "text/plain": [
       "<Figure size 1400x600 with 2 Axes>"
      ]
     },
     "metadata": {},
     "output_type": "display_data"
    }
   ],
   "source": [
    "from matplotlib import pyplot as plt\n",
    "import seaborn as sns\n",
    "from sklearn.metrics import confusion_matrix, classification_report\n",
    "\n",
    "df = pd.read_csv('../dataset/bert_CAL_experiment_results_v3.csv')\n",
    "\n",
    "# Assuming you have computed the confusion matrix and classification report\n",
    "# Replace this with your actual values\n",
    "classification_rep = classification_report(df['true_label'], df['predicted_label'])\n",
    "\n",
    "# Set up the figure with a grid layout and some space between subplots\n",
    "fig, ax = plt.subplots(figsize=(14, 6), nrows=1, ncols=2, gridspec_kw={'width_ratios': [1, 2], 'wspace': 0.3})\n",
    "\n",
    "# Plotting the confusion matrix\n",
    "with sns.axes_style(\"whitegrid\"):\n",
    "    sns.heatmap(cm, annot=True, fmt='d', cmap='Blues', cbar=False, ax=ax[0])\n",
    "    ax[0].set_xlabel('Predicted')\n",
    "    ax[0].set_ylabel('Actual')\n",
    "    ax[0].set_title('Confusion Matrix')\n",
    "\n",
    "# Add classification report information to the plot\n",
    "ax[1].text(0.5, 0.5, classification_rep, horizontalalignment='center', verticalalignment='center', transform=ax[1].transAxes, bbox=dict(facecolor='white', alpha=0.5))\n",
    "ax[1].axis('off')  # Turn off axis for the classification report plot\n",
    "\n",
    "# Display the plot\n",
    "plt.show()"
   ]
  }
 ],
 "metadata": {
  "accelerator": "GPU",
  "colab": {
   "gpuType": "T4",
   "provenance": []
  },
  "kernelspec": {
   "display_name": "Python 3 (ipykernel)",
   "language": "python",
   "name": "python3"
  },
  "language_info": {
   "codemirror_mode": {
    "name": "ipython",
    "version": 3
   },
   "file_extension": ".py",
   "mimetype": "text/x-python",
   "name": "python",
   "nbconvert_exporter": "python",
   "pygments_lexer": "ipython3",
   "version": "3.10.10"
  },
  "toc-autonumbering": true
 },
 "nbformat": 4,
 "nbformat_minor": 4
}
