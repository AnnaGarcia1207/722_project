{
 "cells": [
  {
   "cell_type": "code",
   "execution_count": null,
   "id": "9a5672c8-c3fa-4f27-ab82-a5fe2949e7c5",
   "metadata": {},
   "outputs": [],
   "source": [
    "!pip install transformers"
   ]
  },
  {
   "cell_type": "code",
   "execution_count": null,
   "id": "a80637dd-506b-410c-aa64-0261cd924521",
   "metadata": {},
   "outputs": [],
   "source": [
    "import numpy as np\n",
    "from sklearn.linear_model import LogisticRegression\n",
    "from sklearn.model_selection import train_test_split\n",
    "import pandas as pd\n",
    "import torch\n",
    "from collections import Counter\n",
    "from sklearn.metrics import accuracy_score, classification_report\n",
    "import pickle\n",
    "from transformers import AutoTokenizer, AutoModel\n",
    "from sklearn.preprocessing import StandardScaler\n",
    "from sklearn.metrics import f1_score, precision_recall_curve, auc\n",
    "import matplotlib.pyplot as plt"
   ]
  },
  {
   "cell_type": "code",
   "execution_count": null,
   "id": "f74120d8-517b-4c38-81b8-8f316f5f03c9",
   "metadata": {},
   "outputs": [],
   "source": [
    "data = pd.read_csv(\"train_test_datasetV2.csv\")\n",
    "print(len(data))\n",
    "print(data['target'].value_counts())\n",
    "print(data.columns)\n",
    "documents = data['clean_tweet'].to_list()\n",
    "labels = data['target'].to_list()\n",
    "\n",
    "print(f'Type of documents {type(documents)} and labels: {type(labels)}')\n",
    "print(f'Length {len(documents)} and labels: {len(labels)}')\n",
    "\n",
    "# Get 1000 SEED DOCUMENTS FROM data\n",
    "class_0_indices = [i for i, label in enumerate(labels) if label == 0]\n",
    "class_1_indices = [i for i, label in enumerate(labels) if label == 1]\n",
    "\n",
    "seed_size = 1000\n",
    "\n",
    "# Define seed size for each class\n",
    "seed_size_per_class = seed_size // 2\n",
    "\n",
    "# Sample equally from each class\n",
    "seed_indices_0 = np.random.choice(class_0_indices, size=seed_size_per_class, replace=False)\n",
    "seed_indices_1 = np.random.choice(class_1_indices, size=seed_size_per_class, replace=False)\n",
    "\n",
    "# Combine the samples\n",
    "seed_indices = np.concatenate((seed_indices_0, seed_indices_1))\n",
    "np.random.shuffle(seed_indices)  # Shuffle to mix the classes\n",
    "\n",
    "# Extract seed documents and labels\n",
    "seed_documents = [documents[i] for i in seed_indices]\n",
    "seed_labels = [labels[i] for i in seed_indices]\n",
    "\n",
    "# Checking the distribution\n",
    "print(\"Number of Seed Documents:\", len(seed_documents))\n",
    "distribution = Counter(seed_labels)\n",
    "print(\"Value count of Seed Documents:\")\n",
    "print(distribution)"
   ]
  },
  {
   "cell_type": "code",
   "execution_count": null,
   "id": "94bdbe21-53f9-45c2-86d4-159bc0d6c9f6",
   "metadata": {},
   "outputs": [],
   "source": [
    "# Setup and Load Model\n",
    "MODEL_NAME = \"cardiffnlp/twitter-roberta-base\"\n",
    "bert_tokenizer = AutoTokenizer.from_pretrained(MODEL_NAME)\n",
    "bert_model = AutoModel.from_pretrained(MODEL_NAME)\n",
    "\n",
    "# Move your model to the GPU\n",
    "bert_model.to(device)"
   ]
  },
  {
   "cell_type": "code",
   "execution_count": null,
   "id": "388babff-357e-447d-96a7-04b45cbf7d33",
   "metadata": {},
   "outputs": [],
   "source": [
    "def bert_embed_texts(texts):\n",
    "    \"\"\"\n",
    "    Converts text documents into bert pyTorch embedding using Bert\n",
    "\n",
    "    Parameters:\n",
    "        texts (List[str]): list of documents\n",
    "\n",
    "    Returns: embeddings\n",
    "    \"\"\"\n",
    "    with torch.no_grad():\n",
    "        encoded_input = tokenizer(texts, padding=True, truncation=True, max_length=512, return_tensors='pt').to(device)\n",
    "        output = bert_model(**encoded_input)\n",
    "    return output.pooler_output.cpu()"
   ]
  },
  {
   "cell_type": "code",
   "execution_count": null,
   "id": "1c4ff365-7e01-412d-a76f-f3cfd1ec71e0",
   "metadata": {},
   "outputs": [],
   "source": [
    "# Initial Training\n",
    "X_seed = bert_embed_texts(seed_documents)\n",
    "\n",
    "# Scale the BERT embeddings\n",
    "scaler = StandardScaler()\n",
    "X_seed_scaled = scaler.fit_transform(X_seed)\n",
    "\n",
    "logistic_model = LogisticRegression(max_iter=1000)\n",
    "logistic_model.fit(X_seed_scaled, seed_labels)"
   ]
  },
  {
   "cell_type": "code",
   "execution_count": null,
   "id": "1c467a69-e68a-4065-b1ad-e4b5c0f70a7b",
   "metadata": {},
   "outputs": [],
   "source": [
    "# Active Learning Parameters\n",
    "total_budget = 5000\n",
    "batch_size = 150\n",
    "remaining_budget = total_budget\n",
    "\n",
    "# Active Learning Loop using SAL\n",
    "while remaining_budget > batch_size:\n",
    "\n",
    "    # Predict probabilities\n",
    "    X = bert_embed_texts(documents)\n",
    "    X_scaled = scaler.transform(X_seed)\n",
    "    probabilities = logistic_model.predict_proba(X_scaled)[:, 1]\n",
    "\n",
    "    # SAL: Select documents with probabilities closest to 0.5\n",
    "    uncertain_indices = np.argsort(np.abs(probabilities - 0.5))[:batch_size]\n",
    "\n",
    "    # Reinforce (annotation) using\n",
    "    annotated_labels = [labels[i] for i in uncertain_indices]\n",
    "\n",
    "    # Retrain the model\n",
    "    X_train = bert_embed_texts([documents[i] for i in uncertain_indices])\n",
    "    X_train_scaled = scaler.transform(X_train_scaled)\n",
    "    logistic_model.fit(X_train, annotated_labels)\n",
    "    remaining_budget -= batch_size\n",
    "    print(f'Remaining budget: {remaining_budget}')"
   ]
  },
  {
   "cell_type": "code",
   "execution_count": null,
   "id": "a9727c8d-df54-4653-979a-fe906446f1ab",
   "metadata": {},
   "outputs": [],
   "source": [
    "# Start the testing\n",
    "exp_data = pd.read_csv(\"experiment_datasetV2.csv\")\n",
    "\n",
    "print(len(exp_data))\n",
    "print(exp_data['target'].value_counts())\n",
    "print(exp_data.columns)\n",
    "\n",
    "test_documents = exp_data['clean_tweet'].to_list()\n",
    "test_labels = exp_data['target'].to_list()\n",
    "test_IDs = exp_data['ID'].to_list()\n",
    "\n",
    "print(f'Type of documents {type(test_documents)} and labels: {type(test_labels)}')\n",
    "print(f'Length {len(test_documents)} and labels: {len(test_labels)}')"
   ]
  },
  {
   "cell_type": "code",
   "execution_count": null,
   "id": "78eae8c1-6198-4f63-bf67-72882fab3a26",
   "metadata": {},
   "outputs": [],
   "source": [
    "X_test = bert_embed_texts(test_documents)\n",
    "X_test_scaled = scaler.transform(X_test)\n",
    "\n",
    "# Predict using the trained model\n",
    "predicted_labels = logistic_model.predict(X_test_scaled) # <--- change here\n",
    "predicted_probabilities = logistic_model.predict_proba(X_test_scaled) # <--- change here\n",
    "hateful_probabilities = predicted_probabilities[:, 1]\n",
    "\n",
    "distribution = Counter(predicted_labels)\n",
    "print(\"Value count of predicted_labels\")\n",
    "print(distribution)\n",
    "\n",
    "# Evaluate the model\n",
    "accuracy = accuracy_score(test_labels, predicted_labels)\n",
    "report = classification_report(test_labels, predicted_labels)\n",
    "\n",
    "print(\"Accuracy:\", accuracy)\n",
    "print(\"Classification Report:\\n\", report)"
   ]
  },
  {
   "cell_type": "code",
   "execution_count": null,
   "id": "0668b537-1d27-478f-bfa3-5f72ed561a26",
   "metadata": {},
   "outputs": [],
   "source": [
    "bert_SAL_experiment = pd.DataFrame({\n",
    "    'ID': test_IDs,\n",
    "    'clean_tweet': test_documents,\n",
    "    'true_label': test_labels,\n",
    "    'predicted_label': predicted_labels,\n",
    "    'probability_of_hateful': predicted_probabilities[:, 1]\n",
    "})"
   ]
  },
  {
   "cell_type": "code",
   "execution_count": null,
   "id": "f408ef1f-c6e1-4b02-9e4d-3f4e5f1d8949",
   "metadata": {},
   "outputs": [],
   "source": [
    "bert_SAL_experiment.to_csv(\"bert_SAL_experiment_results.csv\", index=False)\n",
    "\n",
    "with open('logistic_regression_model_bert_SAL.pkl', 'wb') as file:\n",
    "    pickle.dump(logistic_model, file)  #<--- change here\n",
    "\n",
    "with open('bert_sal_embedder.pkl', 'wb') as file:\n",
    "    pickle.dump(bert_model, file)  #<--- change here\n",
    "    \n",
    "print(\"Done\")"
   ]
  }
 ],
 "metadata": {
  "kernelspec": {
   "display_name": "Python 3 (ipykernel)",
   "language": "python",
   "name": "python3"
  },
  "language_info": {
   "codemirror_mode": {
    "name": "ipython",
    "version": 3
   },
   "file_extension": ".py",
   "mimetype": "text/x-python",
   "name": "python",
   "nbconvert_exporter": "python",
   "pygments_lexer": "ipython3",
   "version": "3.10.8"
  }
 },
 "nbformat": 4,
 "nbformat_minor": 5
}
